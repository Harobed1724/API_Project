{
 "cells": [
  {
   "cell_type": "markdown",
   "metadata": {},
   "source": [
    "## Classification Analysis of Sepsis"
   ]
  },
  {
   "cell_type": "markdown",
   "metadata": {},
   "source": [
    "### Project Description\n",
    "\n",
    "\n",
    "This project is about developing a classification model to predict if patients test positive or negative for Sepsis. Also, a web application will be developed with the best model\n",
    "Sepsis is the body’s extreme response to an infection and can be life-threatening. Sepsis happens when an infection you already have triggers a chain reaction throughout your body. In most cases, bacteria infection are the causes of Sepsis. People who are ata risk for developing sepis include adults who are 65 and above; children younger than one; people with chronic diseases such as diabetes, lung disease, cancer; people with weakened immune system among others.\n",
    "This is a classification project since the goal is to predict the label of the class to which the input belongs i.e. Negative or Positive."
   ]
  },
  {
   "cell_type": "markdown",
   "metadata": {},
   "source": [
    "### Hypothesis\n",
    "\n",
    "Null hypothesis: There is no  relationship bettween high plasma glucose levels and Sepsis\n",
    "Alternative hypothesis: There is a relationship between high plasma glucose levels and Sepsis"
   ]
  },
  {
   "cell_type": "markdown",
   "metadata": {},
   "source": [
    "### Analytical Questions\n",
    "\n",
    "1. What is the distribution of ages for patients captured in the data?\n",
    "2. Which age group are more prone to developing sepsis?\n",
    "3. Does the blood parameters  have an association with sepsis?\n",
    "4. Is body mass directly correlated with a patients tendency to get sepsis?\n",
    "5. Is plasma glucose leves Index affected by Age?"
   ]
  },
  {
   "cell_type": "markdown",
   "metadata": {},
   "source": [
    "### About the Datasets:\n",
    "\n",
    "* **ID:**                            Unique patient identifier.\n",
    "* **PRG** (Plasma glucose):          Measurement of plasma glucose levels.\n",
    "* **PL** (Blood Work Result-1):      First blood work result (in mu U/ml).\n",
    "* **PR** (Blood Pressure):           Blood pressure measurement (in mm Hg).\n",
    "* **SK** (Blood Work Result-2):       Second blood work result (in mm).\n",
    "* **TS** (Blood Work Result-3):       Third blood work result (in mu U/ml).\n",
    "* **M11** (Body mass index):          Body mass index calculated as weight in kg divided by the square of height in meters.\n",
    "* **BD2** (Blood Work Result-4):      Fourth blood work result (in mu U/ml).\n",
    "* **Age**: Age of the patient in years.\n",
    "\n",
    "* **Insurance**:              Binary indicator of whether the patient holds a valid insurance card.\n",
    "\n",
    "* **Sepsis**: Binary outcome indicating the development of sepsis in the ICU (Positive or Negative). otherwise"
   ]
  },
  {
   "cell_type": "markdown",
   "metadata": {},
   "source": [
    "### Importing the various libraries that will be used for the model"
   ]
  },
  {
   "cell_type": "code",
   "execution_count": 47,
   "metadata": {},
   "outputs": [],
   "source": [
    "import pandas as pd                       # For data manipulation and analysis\n",
    "import numpy as np                        # For numerical operations\n",
    "import matplotlib.pyplot as plt           # For data visualization\n",
    "import seaborn as sns                     # For statistical data visualization\n",
    "import re\n",
    "import threadpoolctl\n",
    "from imblearn.over_sampling import SMOTE\n",
    "import plotly.graph_objects as go\n",
    "import plotly.express as px\n",
    "\n",
    "\n",
    "#import warning\n",
    "\n",
    "\n",
    "#Libraries for feature scaling\n",
    "from sklearn.preprocessing import StandardScaler\n",
    "\n",
    "#Libraries for Validation\n",
    "from sklearn.utils.multiclass import unique_labels\n",
    "from sklearn.metrics import confusion_matrix\n",
    "#from sklearn.metrics import plot_confusion_matrix\n",
    "from sklearn.model_selection import cross_val_score\n",
    "from sklearn.metrics import roc_auc_score\n",
    "from sklearn import metrics   #Import scikit-learn metrics module for accuracy calculation\n",
    "\n",
    "#Libraries for Training model\n",
    "from sklearn.model_selection import train_test_split\n",
    "from sklearn.preprocessing import StandardScaler\n",
    "from sklearn.linear_model import LogisticRegression\n",
    "from sklearn.linear_model import LinearRegression\n",
    "from sklearn.ensemble import RandomForestClassifier, GradientBoostingClassifier\n",
    "from sklearn.neighbors import KNeighborsClassifier\n",
    "from sklearn.svm import SVC\n",
    "from sklearn.tree import DecisionTreeClassifier\n",
    "from xgboost import XGBClassifier\n",
    "from sklearn.metrics import accuracy_score, precision_score, recall_score, f1_score\n",
    "from sklearn.model_selection import StratifiedKFold\n",
    "from sklearn.pipeline import Pipeline\n",
    "from sklearn.model_selection import GridSearchCV\n",
    "from sklearn.preprocessing import StandardScaler\n",
    "from sklearn.model_selection import StratifiedKFold\n",
    "from sklearn import tree\n",
    "\n",
    "import joblib"
   ]
  },
  {
   "cell_type": "code",
   "execution_count": 48,
   "metadata": {},
   "outputs": [],
   "source": [
    "#loading the datasets \n",
    "test_data = pd.read_csv(\"C:/Users/debor/Downloads/Azubi Africa/Project/API_Project/API_Project/Data/Patients_Files_Test.csv\")\n",
    "train_data = pd.read_csv(\"C:/Users/debor/Downloads/Azubi Africa/Project/API_Project/API_Project/Data/Patients_Files_Train.csv\")"
   ]
  },
  {
   "cell_type": "markdown",
   "metadata": {},
   "source": [
    "### Data Understanding and Exploratory Data Analysis"
   ]
  },
  {
   "cell_type": "code",
   "execution_count": 49,
   "metadata": {},
   "outputs": [
    {
     "data": {
      "text/html": [
       "<div>\n",
       "<style scoped>\n",
       "    .dataframe tbody tr th:only-of-type {\n",
       "        vertical-align: middle;\n",
       "    }\n",
       "\n",
       "    .dataframe tbody tr th {\n",
       "        vertical-align: top;\n",
       "    }\n",
       "\n",
       "    .dataframe thead th {\n",
       "        text-align: right;\n",
       "    }\n",
       "</style>\n",
       "<table border=\"1\" class=\"dataframe\">\n",
       "  <thead>\n",
       "    <tr style=\"text-align: right;\">\n",
       "      <th></th>\n",
       "      <th>ID</th>\n",
       "      <th>PRG</th>\n",
       "      <th>PL</th>\n",
       "      <th>PR</th>\n",
       "      <th>SK</th>\n",
       "      <th>TS</th>\n",
       "      <th>M11</th>\n",
       "      <th>BD2</th>\n",
       "      <th>Age</th>\n",
       "      <th>Insurance</th>\n",
       "      <th>Sepssis</th>\n",
       "    </tr>\n",
       "  </thead>\n",
       "  <tbody>\n",
       "    <tr>\n",
       "      <th>0</th>\n",
       "      <td>ICU200010</td>\n",
       "      <td>6</td>\n",
       "      <td>148</td>\n",
       "      <td>72</td>\n",
       "      <td>35</td>\n",
       "      <td>0</td>\n",
       "      <td>33.6</td>\n",
       "      <td>0.627</td>\n",
       "      <td>50</td>\n",
       "      <td>0</td>\n",
       "      <td>Positive</td>\n",
       "    </tr>\n",
       "    <tr>\n",
       "      <th>1</th>\n",
       "      <td>ICU200011</td>\n",
       "      <td>1</td>\n",
       "      <td>85</td>\n",
       "      <td>66</td>\n",
       "      <td>29</td>\n",
       "      <td>0</td>\n",
       "      <td>26.6</td>\n",
       "      <td>0.351</td>\n",
       "      <td>31</td>\n",
       "      <td>0</td>\n",
       "      <td>Negative</td>\n",
       "    </tr>\n",
       "    <tr>\n",
       "      <th>2</th>\n",
       "      <td>ICU200012</td>\n",
       "      <td>8</td>\n",
       "      <td>183</td>\n",
       "      <td>64</td>\n",
       "      <td>0</td>\n",
       "      <td>0</td>\n",
       "      <td>23.3</td>\n",
       "      <td>0.672</td>\n",
       "      <td>32</td>\n",
       "      <td>1</td>\n",
       "      <td>Positive</td>\n",
       "    </tr>\n",
       "    <tr>\n",
       "      <th>3</th>\n",
       "      <td>ICU200013</td>\n",
       "      <td>1</td>\n",
       "      <td>89</td>\n",
       "      <td>66</td>\n",
       "      <td>23</td>\n",
       "      <td>94</td>\n",
       "      <td>28.1</td>\n",
       "      <td>0.167</td>\n",
       "      <td>21</td>\n",
       "      <td>1</td>\n",
       "      <td>Negative</td>\n",
       "    </tr>\n",
       "    <tr>\n",
       "      <th>4</th>\n",
       "      <td>ICU200014</td>\n",
       "      <td>0</td>\n",
       "      <td>137</td>\n",
       "      <td>40</td>\n",
       "      <td>35</td>\n",
       "      <td>168</td>\n",
       "      <td>43.1</td>\n",
       "      <td>2.288</td>\n",
       "      <td>33</td>\n",
       "      <td>1</td>\n",
       "      <td>Positive</td>\n",
       "    </tr>\n",
       "  </tbody>\n",
       "</table>\n",
       "</div>"
      ],
      "text/plain": [
       "          ID  PRG   PL  PR  SK   TS   M11    BD2  Age  Insurance   Sepssis\n",
       "0  ICU200010    6  148  72  35    0  33.6  0.627   50          0  Positive\n",
       "1  ICU200011    1   85  66  29    0  26.6  0.351   31          0  Negative\n",
       "2  ICU200012    8  183  64   0    0  23.3  0.672   32          1  Positive\n",
       "3  ICU200013    1   89  66  23   94  28.1  0.167   21          1  Negative\n",
       "4  ICU200014    0  137  40  35  168  43.1  2.288   33          1  Positive"
      ]
     },
     "execution_count": 49,
     "metadata": {},
     "output_type": "execute_result"
    }
   ],
   "source": [
    "#Understanding the data\n",
    "train_data.head(5)"
   ]
  },
  {
   "cell_type": "code",
   "execution_count": 50,
   "metadata": {},
   "outputs": [
    {
     "data": {
      "text/html": [
       "<div>\n",
       "<style scoped>\n",
       "    .dataframe tbody tr th:only-of-type {\n",
       "        vertical-align: middle;\n",
       "    }\n",
       "\n",
       "    .dataframe tbody tr th {\n",
       "        vertical-align: top;\n",
       "    }\n",
       "\n",
       "    .dataframe thead th {\n",
       "        text-align: right;\n",
       "    }\n",
       "</style>\n",
       "<table border=\"1\" class=\"dataframe\">\n",
       "  <thead>\n",
       "    <tr style=\"text-align: right;\">\n",
       "      <th></th>\n",
       "      <th>ID</th>\n",
       "      <th>PRG</th>\n",
       "      <th>PL</th>\n",
       "      <th>PR</th>\n",
       "      <th>SK</th>\n",
       "      <th>TS</th>\n",
       "      <th>M11</th>\n",
       "      <th>BD2</th>\n",
       "      <th>Age</th>\n",
       "      <th>Insurance</th>\n",
       "    </tr>\n",
       "  </thead>\n",
       "  <tbody>\n",
       "    <tr>\n",
       "      <th>0</th>\n",
       "      <td>ICU200609</td>\n",
       "      <td>1</td>\n",
       "      <td>109</td>\n",
       "      <td>38</td>\n",
       "      <td>18</td>\n",
       "      <td>120</td>\n",
       "      <td>23.1</td>\n",
       "      <td>0.407</td>\n",
       "      <td>26</td>\n",
       "      <td>1</td>\n",
       "    </tr>\n",
       "    <tr>\n",
       "      <th>1</th>\n",
       "      <td>ICU200610</td>\n",
       "      <td>1</td>\n",
       "      <td>108</td>\n",
       "      <td>88</td>\n",
       "      <td>19</td>\n",
       "      <td>0</td>\n",
       "      <td>27.1</td>\n",
       "      <td>0.400</td>\n",
       "      <td>24</td>\n",
       "      <td>1</td>\n",
       "    </tr>\n",
       "    <tr>\n",
       "      <th>2</th>\n",
       "      <td>ICU200611</td>\n",
       "      <td>6</td>\n",
       "      <td>96</td>\n",
       "      <td>0</td>\n",
       "      <td>0</td>\n",
       "      <td>0</td>\n",
       "      <td>23.7</td>\n",
       "      <td>0.190</td>\n",
       "      <td>28</td>\n",
       "      <td>1</td>\n",
       "    </tr>\n",
       "    <tr>\n",
       "      <th>3</th>\n",
       "      <td>ICU200612</td>\n",
       "      <td>1</td>\n",
       "      <td>124</td>\n",
       "      <td>74</td>\n",
       "      <td>36</td>\n",
       "      <td>0</td>\n",
       "      <td>27.8</td>\n",
       "      <td>0.100</td>\n",
       "      <td>30</td>\n",
       "      <td>1</td>\n",
       "    </tr>\n",
       "    <tr>\n",
       "      <th>4</th>\n",
       "      <td>ICU200613</td>\n",
       "      <td>7</td>\n",
       "      <td>150</td>\n",
       "      <td>78</td>\n",
       "      <td>29</td>\n",
       "      <td>126</td>\n",
       "      <td>35.2</td>\n",
       "      <td>0.692</td>\n",
       "      <td>54</td>\n",
       "      <td>0</td>\n",
       "    </tr>\n",
       "  </tbody>\n",
       "</table>\n",
       "</div>"
      ],
      "text/plain": [
       "          ID  PRG   PL  PR  SK   TS   M11    BD2  Age  Insurance\n",
       "0  ICU200609    1  109  38  18  120  23.1  0.407   26          1\n",
       "1  ICU200610    1  108  88  19    0  27.1  0.400   24          1\n",
       "2  ICU200611    6   96   0   0    0  23.7  0.190   28          1\n",
       "3  ICU200612    1  124  74  36    0  27.8  0.100   30          1\n",
       "4  ICU200613    7  150  78  29  126  35.2  0.692   54          0"
      ]
     },
     "execution_count": 50,
     "metadata": {},
     "output_type": "execute_result"
    }
   ],
   "source": [
    "test_data.head(5)"
   ]
  },
  {
   "cell_type": "code",
   "execution_count": 51,
   "metadata": {},
   "outputs": [],
   "source": [
    "# Define new column names for better understanding\n",
    "new_column_names = {\n",
    "    'PRG': 'Plasma_glucose',\n",
    "    'PL': 'Blood_Work_Result_1',\n",
    "    'PR': 'Blood_Pressure',\n",
    "    'SK': 'Blood_Work_Result_2',\n",
    "    'TS': 'Blood_Work_Result_3',\n",
    "    'M11': 'Body_mass_index',\n",
    "    'BD2': 'Blood_Work_Result_4',\n",
    "    'Sepssis': 'Sepsis'\n",
    "}\n",
    "\n",
    "train_data.rename(columns=new_column_names, inplace=True)\n",
    "test_data.rename(columns=new_column_names, inplace=True)"
   ]
  },
  {
   "cell_type": "code",
   "execution_count": 52,
   "metadata": {},
   "outputs": [
    {
     "data": {
      "text/plain": [
       "(169, 10)"
      ]
     },
     "execution_count": 52,
     "metadata": {},
     "output_type": "execute_result"
    }
   ],
   "source": [
    "train_data.shape\n",
    "test_data.shape          # checking for the shapes"
   ]
  },
  {
   "cell_type": "code",
   "execution_count": 53,
   "metadata": {},
   "outputs": [
    {
     "data": {
      "text/plain": [
       "np.int64(0)"
      ]
     },
     "execution_count": 53,
     "metadata": {},
     "output_type": "execute_result"
    }
   ],
   "source": [
    "train_data.duplicated().sum()   #checking for duplicates"
   ]
  },
  {
   "cell_type": "code",
   "execution_count": 54,
   "metadata": {},
   "outputs": [
    {
     "data": {
      "text/plain": [
       "np.int64(0)"
      ]
     },
     "execution_count": 54,
     "metadata": {},
     "output_type": "execute_result"
    }
   ],
   "source": [
    "test_data.duplicated().sum()"
   ]
  },
  {
   "cell_type": "code",
   "execution_count": 55,
   "metadata": {},
   "outputs": [
    {
     "data": {
      "text/plain": [
       "ID                     0\n",
       "Plasma_glucose         0\n",
       "Blood_Work_Result_1    0\n",
       "Blood_Pressure         0\n",
       "Blood_Work_Result_2    0\n",
       "Blood_Work_Result_3    0\n",
       "Body_mass_index        0\n",
       "Blood_Work_Result_4    0\n",
       "Age                    0\n",
       "Insurance              0\n",
       "Sepsis                 0\n",
       "dtype: int64"
      ]
     },
     "execution_count": 55,
     "metadata": {},
     "output_type": "execute_result"
    }
   ],
   "source": [
    "train_data.isna().sum()     #checking for null values"
   ]
  },
  {
   "cell_type": "code",
   "execution_count": 56,
   "metadata": {},
   "outputs": [
    {
     "data": {
      "text/plain": [
       "ID                     0\n",
       "Plasma_glucose         0\n",
       "Blood_Work_Result_1    0\n",
       "Blood_Pressure         0\n",
       "Blood_Work_Result_2    0\n",
       "Blood_Work_Result_3    0\n",
       "Body_mass_index        0\n",
       "Blood_Work_Result_4    0\n",
       "Age                    0\n",
       "Insurance              0\n",
       "dtype: int64"
      ]
     },
     "execution_count": 56,
     "metadata": {},
     "output_type": "execute_result"
    }
   ],
   "source": [
    "test_data.isna().sum()    #checking for null values"
   ]
  },
  {
   "cell_type": "code",
   "execution_count": 57,
   "metadata": {},
   "outputs": [
    {
     "data": {
      "text/plain": [
       "Index(['ID', 'Plasma_glucose', 'Blood_Work_Result_1', 'Blood_Pressure',\n",
       "       'Blood_Work_Result_2', 'Blood_Work_Result_3', 'Body_mass_index',\n",
       "       'Blood_Work_Result_4', 'Age', 'Insurance', 'Sepsis'],\n",
       "      dtype='object')"
      ]
     },
     "execution_count": 57,
     "metadata": {},
     "output_type": "execute_result"
    }
   ],
   "source": [
    "train_data.columns"
   ]
  },
  {
   "cell_type": "code",
   "execution_count": 58,
   "metadata": {},
   "outputs": [
    {
     "data": {
      "text/plain": [
       "Index(['ID', 'Plasma_glucose', 'Blood_Work_Result_1', 'Blood_Pressure',\n",
       "       'Blood_Work_Result_2', 'Blood_Work_Result_3', 'Body_mass_index',\n",
       "       'Blood_Work_Result_4', 'Age', 'Insurance'],\n",
       "      dtype='object')"
      ]
     },
     "execution_count": 58,
     "metadata": {},
     "output_type": "execute_result"
    }
   ],
   "source": [
    "test_data.columns"
   ]
  },
  {
   "cell_type": "code",
   "execution_count": 59,
   "metadata": {},
   "outputs": [
    {
     "data": {
      "text/html": [
       "<div>\n",
       "<style scoped>\n",
       "    .dataframe tbody tr th:only-of-type {\n",
       "        vertical-align: middle;\n",
       "    }\n",
       "\n",
       "    .dataframe tbody tr th {\n",
       "        vertical-align: top;\n",
       "    }\n",
       "\n",
       "    .dataframe thead th {\n",
       "        text-align: right;\n",
       "    }\n",
       "</style>\n",
       "<table border=\"1\" class=\"dataframe\">\n",
       "  <thead>\n",
       "    <tr style=\"text-align: right;\">\n",
       "      <th></th>\n",
       "      <th>Plasma_glucose</th>\n",
       "      <th>Blood_Work_Result_1</th>\n",
       "      <th>Blood_Pressure</th>\n",
       "      <th>Blood_Work_Result_2</th>\n",
       "      <th>Blood_Work_Result_3</th>\n",
       "      <th>Body_mass_index</th>\n",
       "      <th>Blood_Work_Result_4</th>\n",
       "      <th>Age</th>\n",
       "      <th>Insurance</th>\n",
       "    </tr>\n",
       "  </thead>\n",
       "  <tbody>\n",
       "    <tr>\n",
       "      <th>count</th>\n",
       "      <td>599.000000</td>\n",
       "      <td>599.000000</td>\n",
       "      <td>599.000000</td>\n",
       "      <td>599.000000</td>\n",
       "      <td>599.000000</td>\n",
       "      <td>599.000000</td>\n",
       "      <td>599.000000</td>\n",
       "      <td>599.000000</td>\n",
       "      <td>599.000000</td>\n",
       "    </tr>\n",
       "    <tr>\n",
       "      <th>mean</th>\n",
       "      <td>3.824708</td>\n",
       "      <td>120.153589</td>\n",
       "      <td>68.732888</td>\n",
       "      <td>20.562604</td>\n",
       "      <td>79.460768</td>\n",
       "      <td>31.920033</td>\n",
       "      <td>0.481187</td>\n",
       "      <td>33.290484</td>\n",
       "      <td>0.686144</td>\n",
       "    </tr>\n",
       "    <tr>\n",
       "      <th>std</th>\n",
       "      <td>3.362839</td>\n",
       "      <td>32.682364</td>\n",
       "      <td>19.335675</td>\n",
       "      <td>16.017622</td>\n",
       "      <td>116.576176</td>\n",
       "      <td>8.008227</td>\n",
       "      <td>0.337552</td>\n",
       "      <td>11.828446</td>\n",
       "      <td>0.464447</td>\n",
       "    </tr>\n",
       "    <tr>\n",
       "      <th>min</th>\n",
       "      <td>0.000000</td>\n",
       "      <td>0.000000</td>\n",
       "      <td>0.000000</td>\n",
       "      <td>0.000000</td>\n",
       "      <td>0.000000</td>\n",
       "      <td>0.000000</td>\n",
       "      <td>0.078000</td>\n",
       "      <td>21.000000</td>\n",
       "      <td>0.000000</td>\n",
       "    </tr>\n",
       "    <tr>\n",
       "      <th>25%</th>\n",
       "      <td>1.000000</td>\n",
       "      <td>99.000000</td>\n",
       "      <td>64.000000</td>\n",
       "      <td>0.000000</td>\n",
       "      <td>0.000000</td>\n",
       "      <td>27.100000</td>\n",
       "      <td>0.248000</td>\n",
       "      <td>24.000000</td>\n",
       "      <td>0.000000</td>\n",
       "    </tr>\n",
       "    <tr>\n",
       "      <th>50%</th>\n",
       "      <td>3.000000</td>\n",
       "      <td>116.000000</td>\n",
       "      <td>70.000000</td>\n",
       "      <td>23.000000</td>\n",
       "      <td>36.000000</td>\n",
       "      <td>32.000000</td>\n",
       "      <td>0.383000</td>\n",
       "      <td>29.000000</td>\n",
       "      <td>1.000000</td>\n",
       "    </tr>\n",
       "    <tr>\n",
       "      <th>75%</th>\n",
       "      <td>6.000000</td>\n",
       "      <td>140.000000</td>\n",
       "      <td>80.000000</td>\n",
       "      <td>32.000000</td>\n",
       "      <td>123.500000</td>\n",
       "      <td>36.550000</td>\n",
       "      <td>0.647000</td>\n",
       "      <td>40.000000</td>\n",
       "      <td>1.000000</td>\n",
       "    </tr>\n",
       "    <tr>\n",
       "      <th>max</th>\n",
       "      <td>17.000000</td>\n",
       "      <td>198.000000</td>\n",
       "      <td>122.000000</td>\n",
       "      <td>99.000000</td>\n",
       "      <td>846.000000</td>\n",
       "      <td>67.100000</td>\n",
       "      <td>2.420000</td>\n",
       "      <td>81.000000</td>\n",
       "      <td>1.000000</td>\n",
       "    </tr>\n",
       "  </tbody>\n",
       "</table>\n",
       "</div>"
      ],
      "text/plain": [
       "       Plasma_glucose  Blood_Work_Result_1  Blood_Pressure  \\\n",
       "count      599.000000           599.000000      599.000000   \n",
       "mean         3.824708           120.153589       68.732888   \n",
       "std          3.362839            32.682364       19.335675   \n",
       "min          0.000000             0.000000        0.000000   \n",
       "25%          1.000000            99.000000       64.000000   \n",
       "50%          3.000000           116.000000       70.000000   \n",
       "75%          6.000000           140.000000       80.000000   \n",
       "max         17.000000           198.000000      122.000000   \n",
       "\n",
       "       Blood_Work_Result_2  Blood_Work_Result_3  Body_mass_index  \\\n",
       "count           599.000000           599.000000       599.000000   \n",
       "mean             20.562604            79.460768        31.920033   \n",
       "std              16.017622           116.576176         8.008227   \n",
       "min               0.000000             0.000000         0.000000   \n",
       "25%               0.000000             0.000000        27.100000   \n",
       "50%              23.000000            36.000000        32.000000   \n",
       "75%              32.000000           123.500000        36.550000   \n",
       "max              99.000000           846.000000        67.100000   \n",
       "\n",
       "       Blood_Work_Result_4         Age   Insurance  \n",
       "count           599.000000  599.000000  599.000000  \n",
       "mean              0.481187   33.290484    0.686144  \n",
       "std               0.337552   11.828446    0.464447  \n",
       "min               0.078000   21.000000    0.000000  \n",
       "25%               0.248000   24.000000    0.000000  \n",
       "50%               0.383000   29.000000    1.000000  \n",
       "75%               0.647000   40.000000    1.000000  \n",
       "max               2.420000   81.000000    1.000000  "
      ]
     },
     "execution_count": 59,
     "metadata": {},
     "output_type": "execute_result"
    }
   ],
   "source": [
    "train_data.describe()     #checking statistical info of dataset"
   ]
  },
  {
   "cell_type": "code",
   "execution_count": 60,
   "metadata": {},
   "outputs": [
    {
     "data": {
      "text/html": [
       "<div>\n",
       "<style scoped>\n",
       "    .dataframe tbody tr th:only-of-type {\n",
       "        vertical-align: middle;\n",
       "    }\n",
       "\n",
       "    .dataframe tbody tr th {\n",
       "        vertical-align: top;\n",
       "    }\n",
       "\n",
       "    .dataframe thead th {\n",
       "        text-align: right;\n",
       "    }\n",
       "</style>\n",
       "<table border=\"1\" class=\"dataframe\">\n",
       "  <thead>\n",
       "    <tr style=\"text-align: right;\">\n",
       "      <th></th>\n",
       "      <th>Plasma_glucose</th>\n",
       "      <th>Blood_Work_Result_1</th>\n",
       "      <th>Blood_Pressure</th>\n",
       "      <th>Blood_Work_Result_2</th>\n",
       "      <th>Blood_Work_Result_3</th>\n",
       "      <th>Body_mass_index</th>\n",
       "      <th>Blood_Work_Result_4</th>\n",
       "      <th>Age</th>\n",
       "      <th>Insurance</th>\n",
       "    </tr>\n",
       "  </thead>\n",
       "  <tbody>\n",
       "    <tr>\n",
       "      <th>count</th>\n",
       "      <td>169.000000</td>\n",
       "      <td>169.000000</td>\n",
       "      <td>169.000000</td>\n",
       "      <td>169.000000</td>\n",
       "      <td>169.000000</td>\n",
       "      <td>169.000000</td>\n",
       "      <td>169.000000</td>\n",
       "      <td>169.000000</td>\n",
       "      <td>169.000000</td>\n",
       "    </tr>\n",
       "    <tr>\n",
       "      <th>mean</th>\n",
       "      <td>3.917160</td>\n",
       "      <td>123.520710</td>\n",
       "      <td>70.426036</td>\n",
       "      <td>20.443787</td>\n",
       "      <td>81.000000</td>\n",
       "      <td>32.249704</td>\n",
       "      <td>0.438876</td>\n",
       "      <td>33.065089</td>\n",
       "      <td>0.727811</td>\n",
       "    </tr>\n",
       "    <tr>\n",
       "      <th>std</th>\n",
       "      <td>3.402415</td>\n",
       "      <td>29.259123</td>\n",
       "      <td>19.426805</td>\n",
       "      <td>15.764962</td>\n",
       "      <td>110.720852</td>\n",
       "      <td>7.444886</td>\n",
       "      <td>0.306935</td>\n",
       "      <td>11.548110</td>\n",
       "      <td>0.446410</td>\n",
       "    </tr>\n",
       "    <tr>\n",
       "      <th>min</th>\n",
       "      <td>0.000000</td>\n",
       "      <td>56.000000</td>\n",
       "      <td>0.000000</td>\n",
       "      <td>0.000000</td>\n",
       "      <td>0.000000</td>\n",
       "      <td>0.000000</td>\n",
       "      <td>0.100000</td>\n",
       "      <td>21.000000</td>\n",
       "      <td>0.000000</td>\n",
       "    </tr>\n",
       "    <tr>\n",
       "      <th>25%</th>\n",
       "      <td>1.000000</td>\n",
       "      <td>102.000000</td>\n",
       "      <td>62.000000</td>\n",
       "      <td>0.000000</td>\n",
       "      <td>0.000000</td>\n",
       "      <td>27.600000</td>\n",
       "      <td>0.223000</td>\n",
       "      <td>24.000000</td>\n",
       "      <td>0.000000</td>\n",
       "    </tr>\n",
       "    <tr>\n",
       "      <th>50%</th>\n",
       "      <td>3.000000</td>\n",
       "      <td>120.000000</td>\n",
       "      <td>74.000000</td>\n",
       "      <td>23.000000</td>\n",
       "      <td>0.000000</td>\n",
       "      <td>32.400000</td>\n",
       "      <td>0.343000</td>\n",
       "      <td>28.000000</td>\n",
       "      <td>1.000000</td>\n",
       "    </tr>\n",
       "    <tr>\n",
       "      <th>75%</th>\n",
       "      <td>6.000000</td>\n",
       "      <td>141.000000</td>\n",
       "      <td>80.000000</td>\n",
       "      <td>32.000000</td>\n",
       "      <td>135.000000</td>\n",
       "      <td>36.600000</td>\n",
       "      <td>0.587000</td>\n",
       "      <td>42.000000</td>\n",
       "      <td>1.000000</td>\n",
       "    </tr>\n",
       "    <tr>\n",
       "      <th>max</th>\n",
       "      <td>13.000000</td>\n",
       "      <td>199.000000</td>\n",
       "      <td>114.000000</td>\n",
       "      <td>49.000000</td>\n",
       "      <td>540.000000</td>\n",
       "      <td>57.300000</td>\n",
       "      <td>1.698000</td>\n",
       "      <td>70.000000</td>\n",
       "      <td>1.000000</td>\n",
       "    </tr>\n",
       "  </tbody>\n",
       "</table>\n",
       "</div>"
      ],
      "text/plain": [
       "       Plasma_glucose  Blood_Work_Result_1  Blood_Pressure  \\\n",
       "count      169.000000           169.000000      169.000000   \n",
       "mean         3.917160           123.520710       70.426036   \n",
       "std          3.402415            29.259123       19.426805   \n",
       "min          0.000000            56.000000        0.000000   \n",
       "25%          1.000000           102.000000       62.000000   \n",
       "50%          3.000000           120.000000       74.000000   \n",
       "75%          6.000000           141.000000       80.000000   \n",
       "max         13.000000           199.000000      114.000000   \n",
       "\n",
       "       Blood_Work_Result_2  Blood_Work_Result_3  Body_mass_index  \\\n",
       "count           169.000000           169.000000       169.000000   \n",
       "mean             20.443787            81.000000        32.249704   \n",
       "std              15.764962           110.720852         7.444886   \n",
       "min               0.000000             0.000000         0.000000   \n",
       "25%               0.000000             0.000000        27.600000   \n",
       "50%              23.000000             0.000000        32.400000   \n",
       "75%              32.000000           135.000000        36.600000   \n",
       "max              49.000000           540.000000        57.300000   \n",
       "\n",
       "       Blood_Work_Result_4         Age   Insurance  \n",
       "count           169.000000  169.000000  169.000000  \n",
       "mean              0.438876   33.065089    0.727811  \n",
       "std               0.306935   11.548110    0.446410  \n",
       "min               0.100000   21.000000    0.000000  \n",
       "25%               0.223000   24.000000    0.000000  \n",
       "50%               0.343000   28.000000    1.000000  \n",
       "75%               0.587000   42.000000    1.000000  \n",
       "max               1.698000   70.000000    1.000000  "
      ]
     },
     "execution_count": 60,
     "metadata": {},
     "output_type": "execute_result"
    }
   ],
   "source": [
    "test_data.describe()       #checking statistical info of dataset"
   ]
  },
  {
   "cell_type": "markdown",
   "metadata": {},
   "source": [
    "### Hypothesis testing"
   ]
  },
  {
   "cell_type": "code",
   "execution_count": 61,
   "metadata": {},
   "outputs": [
    {
     "name": "stdout",
     "output_type": "stream",
     "text": [
      "Correlation coefficient: 0.207114910128452\n",
      "P-value: 3.154172341568796e-07\n",
      "Reject the null hypothesis\n"
     ]
    }
   ],
   "source": [
    "import scipy.stats as stats\n",
    "\n",
    "# Select the plasma glucose and sepsis columns from the dataset\n",
    "Plasma_Glucose = train_data['Plasma_glucose']\n",
    "Sepsis = (train_data['Sepsis'] == 'Positive').astype(bool).astype(int)\n",
    "\n",
    "# Perform correlation analysis\n",
    "correlation, p_value = stats.pearsonr(Plasma_Glucose, Sepsis)\n",
    "\n",
    "# Print the correlation coefficient and p-value\n",
    "print(\"Correlation coefficient:\", correlation)\n",
    "print(\"P-value:\", p_value)\n",
    "\n",
    "if p_value > 0.05:\n",
    "    print('Fail to reject the null hypothesis. ')\n",
    "else:\n",
    "    print('Reject the null hypothesis')"
   ]
  },
  {
   "cell_type": "markdown",
   "metadata": {},
   "source": [
    "Since the p-value(0.00) is is less than the alpha value(0.05), the null hypothesis that there is no relationship between plasma glucose levels and sepsis is rejected. This indicates that plama levels makes one succeptible to Sepsis"
   ]
  },
  {
   "cell_type": "markdown",
   "metadata": {},
   "source": [
    "### Univariate analysis"
   ]
  },
  {
   "cell_type": "code",
   "execution_count": 62,
   "metadata": {},
   "outputs": [
    {
     "data": {
      "text/plain": [
       "Sepsis\n",
       "Negative    391\n",
       "Positive    208\n",
       "Name: count, dtype: int64"
      ]
     },
     "execution_count": 62,
     "metadata": {},
     "output_type": "execute_result"
    }
   ],
   "source": [
    "#Sepsiss Column\n",
    "label_counts = train_data['Sepsis'].value_counts()\n",
    "label_counts"
   ]
  },
  {
   "cell_type": "code",
   "execution_count": 63,
   "metadata": {},
   "outputs": [
    {
     "data": {
      "image/png": "[encoded data removed]",
      "text/plain": [
       "<Figure size 1200x600 with 1 Axes>"
      ]
     },
     "metadata": {},
     "output_type": "display_data"
    }
   ],
   "source": [
    "#Distribution of Patient Ages\n",
    "plt.figure(figsize=(12, 6))\n",
    "sns.histplot(train_data['Age'], bins=20, kde=True, color='skyblue')\n",
    "plt.title('Distribution of Patient Ages')\n",
    "plt.xlabel('Age (years)')\n",
    "plt.ylabel('Frequency')\n",
    "plt.show()"
   ]
  },
  {
   "cell_type": "markdown",
   "metadata": {},
   "source": [
    "**Remark**\n",
    "\n",
    "From the distribution, majority of the patients were between 20 and 40 years of age"
   ]
  },
  {
   "cell_type": "code",
   "execution_count": 64,
   "metadata": {},
   "outputs": [
    {
     "data": {
      "image/png": "[encoded data removed]",
      "text/plain": [
       "<Figure size 1200x600 with 1 Axes>"
      ]
     },
     "metadata": {},
     "output_type": "display_data"
    }
   ],
   "source": [
    "#Box Plot for Plasma Glucose Levels\n",
    "plt.figure(figsize=(12, 6))\n",
    "sns.boxplot(x=train_data['Plasma_glucose'], color='lightcoral')\n",
    "plt.title('Box Plot of Plasma Glucose Levels')\n",
    "plt.xlabel('Plasma Glucose Level (Attribute1)')\n",
    "plt.show()"
   ]
  },
  {
   "cell_type": "code",
   "execution_count": 65,
   "metadata": {},
   "outputs": [
    {
     "name": "stderr",
     "output_type": "stream",
     "text": [
      "C:\\Users\\debor\\AppData\\Local\\Temp\\ipykernel_16560\\1629044216.py:3: FutureWarning:\n",
      "\n",
      "\n",
      "\n",
      "Passing `palette` without assigning `hue` is deprecated and will be removed in v0.14.0. Assign the `x` variable to `hue` and set `legend=False` for the same effect.\n",
      "\n",
      "\n"
     ]
    },
    {
     "data": {
      "image/png": "[encoded data removed]",
      "text/plain": [
       "<Figure size 800x500 with 1 Axes>"
      ]
     },
     "metadata": {},
     "output_type": "display_data"
    }
   ],
   "source": [
    "#Bar Chart for Insurance Status\n",
    "plt.figure(figsize=(8, 5))\n",
    "sns.countplot(x=train_data['Insurance'], palette='pastel')\n",
    "plt.title('Insurance Status Distribution')\n",
    "plt.xlabel('Insurance Status')\n",
    "plt.ylabel('Count')\n",
    "plt.show()"
   ]
  },
  {
   "cell_type": "markdown",
   "metadata": {},
   "source": [
    "### Bivariate Analysis"
   ]
  },
  {
   "cell_type": "code",
   "execution_count": 66,
   "metadata": {},
   "outputs": [
    {
     "data": {
      "image/png": "[encoded data removed]",
      "text/plain": [
       "<Figure size 640x480 with 1 Axes>"
      ]
     },
     "metadata": {},
     "output_type": "display_data"
    }
   ],
   "source": [
    "#Relationship between Age and Sepsis\n",
    "# Create the bin edges for the age groups\n",
    "bins = list(range(20, 81, 10))\n",
    "\n",
    "# Create the bin labels for the age groups (7 labels for 8 bins)\n",
    "basket = ['{0}-{1}'.format(i, i + 9) for i in range(20, 81, 10)[:-1]]\n",
    "\n",
    "# Use pd.cut() to assign age groups to each 'Age' value\n",
    "train_data['Age_group'] = pd.cut(train_data['Age'], bins=bins, labels=basket, right=False)\n",
    "\n",
    "# Plot the count of each age group colored by 'Sepsis'\n",
    "sns.countplot(data=train_data, x='Age_group', hue='Sepsis');"
   ]
  },
  {
   "cell_type": "markdown",
   "metadata": {},
   "source": [
    "**Remarks**\n",
    "\n",
    "It is observed that relatively, the age group 20-29 are less succeptible to sepsis as compared to those from the ages 0f 30-59  and those between the ages of 60-69 are the most suceptible to sepsis. This can be attributed to the fact that as one ages, one becomes succeptible to sepsis due to weakening ot the immune system"
   ]
  },
  {
   "cell_type": "code",
   "execution_count": 67,
   "metadata": {},
   "outputs": [
    {
     "data": {
      "image/png": "[encoded data removed]",
      "text/plain": [
       "<Figure size 800x500 with 1 Axes>"
      ]
     },
     "metadata": {},
     "output_type": "display_data"
    }
   ],
   "source": [
    "#Realtionship between Insurance and Sepsis\n",
    "grouped = train_data.groupby(['Sepsis', 'Insurance'], as_index=False)['ID'].count()\n",
    "# Pivot the data to have Sepsis as columns and Insurance as index\n",
    "pivot = grouped.pivot(index='Insurance', columns='Sepsis', values='ID')\n",
    "# Plotting\n",
    "pivot.plot(kind='bar', stacked=True, figsize=(8, 5))\n",
    "# Setting labels and title\n",
    "plt.xlabel('Insurance')\n",
    "plt.ylabel('Count')\n",
    "plt.title('Sepsis and Insurance Counts')\n",
    "plt.show()"
   ]
  },
  {
   "cell_type": "markdown",
   "metadata": {},
   "source": [
    "**Remarks**\n",
    "\n",
    "From the plot the number of patients with insurance were more than those without insurance. More than half of the insured patients tested negative to sepsis and this was also the true for patients without insurance."
   ]
  },
  {
   "cell_type": "code",
   "execution_count": 68,
   "metadata": {},
   "outputs": [],
   "source": [
    "#Realtionship between BMI and the number of patients\n",
    "# function to create a new column 'Bmi'\n",
    "def create_bmi_range(row):\n",
    "    if (row['Body_mass_index'] <= 18.5):\n",
    "        return 'Under Weight'\n",
    "    elif (row['Body_mass_index'] > 18.5) and (row['Body_mass_index'] <= 24.9):\n",
    "        return 'Healthy Weight'\n",
    "    elif (row['Body_mass_index'] > 24.9) and (row['Body_mass_index'] <= 29.9):\n",
    "        return 'Over Weight'\n",
    "    elif (row['Body_mass_index'] > 29.9) and (row['Body_mass_index'] < 40):\n",
    "        return 'Obesity'\n",
    "    elif row['Body_mass_index'] >= 40:\n",
    "        return 'Severe Obesity'"
   ]
  },
  {
   "cell_type": "code",
   "execution_count": 69,
   "metadata": {},
   "outputs": [],
   "source": [
    "train_data = train_data.copy()"
   ]
  },
  {
   "cell_type": "code",
   "execution_count": 70,
   "metadata": {},
   "outputs": [],
   "source": [
    "train_data['BMI_Ranges'] = train_data.apply(create_bmi_range, axis=1)\n",
    "range_count = train_data['BMI_Ranges'].value_counts()"
   ]
  },
  {
   "cell_type": "code",
   "execution_count": 71,
   "metadata": {},
   "outputs": [
    {
     "data": {
      "image/png": "[encoded data removed]",
      "text/plain": [
       "<Figure size 800x500 with 1 Axes>"
      ]
     },
     "metadata": {},
     "output_type": "display_data"
    }
   ],
   "source": [
    "# plot graph\n",
    "plt.figure(figsize=(8, 5))\n",
    "range_count.plot.bar()\n",
    "plt.title('The number of patients in each BMI range')\n",
    "plt.xlabel('BMI Ranges')\n",
    "plt.ylabel('Number of Patients')\n",
    "plt.show()"
   ]
  },
  {
   "cell_type": "markdown",
   "metadata": {},
   "source": [
    "**Remarks**\n",
    "\n",
    "From the graph,it is evident that most of the of the patients fall under the obesity category. The next category with a higher number of patients was the over weight category. The least was Under Weight category"
   ]
  },
  {
   "cell_type": "code",
   "execution_count": 72,
   "metadata": {},
   "outputs": [
    {
     "data": {
      "text/html": [
       "<div>\n",
       "<style scoped>\n",
       "    .dataframe tbody tr th:only-of-type {\n",
       "        vertical-align: middle;\n",
       "    }\n",
       "\n",
       "    .dataframe tbody tr th {\n",
       "        vertical-align: top;\n",
       "    }\n",
       "\n",
       "    .dataframe thead th {\n",
       "        text-align: right;\n",
       "    }\n",
       "</style>\n",
       "<table border=\"1\" class=\"dataframe\">\n",
       "  <thead>\n",
       "    <tr style=\"text-align: right;\">\n",
       "      <th></th>\n",
       "      <th>Sepsis</th>\n",
       "      <th>BMI_Ranges</th>\n",
       "      <th>ID</th>\n",
       "    </tr>\n",
       "  </thead>\n",
       "  <tbody>\n",
       "    <tr>\n",
       "      <th>0</th>\n",
       "      <td>Negative</td>\n",
       "      <td>Healthy Weight</td>\n",
       "      <td>75</td>\n",
       "    </tr>\n",
       "    <tr>\n",
       "      <th>1</th>\n",
       "      <td>Negative</td>\n",
       "      <td>Obesity</td>\n",
       "      <td>159</td>\n",
       "    </tr>\n",
       "    <tr>\n",
       "      <th>2</th>\n",
       "      <td>Negative</td>\n",
       "      <td>Over Weight</td>\n",
       "      <td>110</td>\n",
       "    </tr>\n",
       "    <tr>\n",
       "      <th>3</th>\n",
       "      <td>Negative</td>\n",
       "      <td>Severe Obesity</td>\n",
       "      <td>35</td>\n",
       "    </tr>\n",
       "    <tr>\n",
       "      <th>4</th>\n",
       "      <td>Negative</td>\n",
       "      <td>Under Weight</td>\n",
       "      <td>12</td>\n",
       "    </tr>\n",
       "    <tr>\n",
       "      <th>5</th>\n",
       "      <td>Positive</td>\n",
       "      <td>Healthy Weight</td>\n",
       "      <td>4</td>\n",
       "    </tr>\n",
       "    <tr>\n",
       "      <th>6</th>\n",
       "      <td>Positive</td>\n",
       "      <td>Obesity</td>\n",
       "      <td>131</td>\n",
       "    </tr>\n",
       "    <tr>\n",
       "      <th>7</th>\n",
       "      <td>Positive</td>\n",
       "      <td>Over Weight</td>\n",
       "      <td>29</td>\n",
       "    </tr>\n",
       "    <tr>\n",
       "      <th>8</th>\n",
       "      <td>Positive</td>\n",
       "      <td>Severe Obesity</td>\n",
       "      <td>43</td>\n",
       "    </tr>\n",
       "    <tr>\n",
       "      <th>9</th>\n",
       "      <td>Positive</td>\n",
       "      <td>Under Weight</td>\n",
       "      <td>1</td>\n",
       "    </tr>\n",
       "  </tbody>\n",
       "</table>\n",
       "</div>"
      ],
      "text/plain": [
       "     Sepsis      BMI_Ranges   ID\n",
       "0  Negative  Healthy Weight   75\n",
       "1  Negative         Obesity  159\n",
       "2  Negative     Over Weight  110\n",
       "3  Negative  Severe Obesity   35\n",
       "4  Negative    Under Weight   12\n",
       "5  Positive  Healthy Weight    4\n",
       "6  Positive         Obesity  131\n",
       "7  Positive     Over Weight   29\n",
       "8  Positive  Severe Obesity   43\n",
       "9  Positive    Under Weight    1"
      ]
     },
     "execution_count": 72,
     "metadata": {},
     "output_type": "execute_result"
    }
   ],
   "source": [
    "#Relationship between body mass and sepsis\n",
    "body_mass = train_data.groupby(['Sepsis', 'BMI_Ranges'], as_index=False)['ID'].count()\n",
    "body_mass"
   ]
  },
  {
   "cell_type": "code",
   "execution_count": 73,
   "metadata": {},
   "outputs": [
    {
     "data": {
      "image/png": "[encoded data removed]",
      "text/plain": [
       "<Figure size 800x600 with 1 Axes>"
      ]
     },
     "metadata": {},
     "output_type": "display_data"
    }
   ],
   "source": [
    "# Pivot the data to have Sepsis as columns and Insurance as index\n",
    "bmi_pivot = body_mass.pivot(index='BMI_Ranges', columns='Sepsis', values='ID')\n",
    "# Plotting\n",
    "bmi_pivot.plot(kind='bar', stacked=True, figsize=(8, 6))\n",
    "# Setting labels and title\n",
    "plt.xlabel('Body Mass Index Groups')\n",
    "plt.ylabel('Count')\n",
    "plt.title('Sepsis vs Body Mass Index Groups')\n",
    "plt.show();"
   ]
  },
  {
   "cell_type": "markdown",
   "metadata": {},
   "source": [
    "**Remark**\n",
    "\n",
    "From the graph, almost half of patients who were obesed and severely obesed had sepsis. Patients who were overweight were also prone to sepsis. Few patients with healthy weight had sepsis. This shows that body mass index influences one's chances of developing Sepsis."
   ]
  },
  {
   "cell_type": "code",
   "execution_count": 74,
   "metadata": {},
   "outputs": [
    {
     "data": {
      "image/png": "[encoded data removed]",
      "text/plain": [
       "<Figure size 800x500 with 1 Axes>"
      ]
     },
     "metadata": {},
     "output_type": "display_data"
    }
   ],
   "source": [
    "#Relationship between plasma glucose level and age\n",
    "plt.figure(figsize=(8, 5))\n",
    "sns.regplot(x='Plasma_glucose', y='Age', data=train_data)\n",
    "plt.title('The correlation between the Age and Plasma Glucose levels')\n",
    "plt.show()"
   ]
  },
  {
   "cell_type": "code",
   "execution_count": 75,
   "metadata": {},
   "outputs": [
    {
     "data": {
      "text/plain": [
       "np.float64(0.532545)"
      ]
     },
     "execution_count": 75,
     "metadata": {},
     "output_type": "execute_result"
    }
   ],
   "source": [
    "corr_ = train_data['Plasma_glucose'].corr(train_data['Age'])\n",
    "round(corr_, 6)"
   ]
  },
  {
   "cell_type": "markdown",
   "metadata": {},
   "source": [
    "**Remark**\n",
    "\n",
    "It is observed that there is a strong positive correlation between Plasma glucose levels and age. This indicates that with an increase age, there's a tendency for blood sugar level to increase"
   ]
  },
  {
   "cell_type": "markdown",
   "metadata": {},
   "source": [
    "### Multivariate analysis"
   ]
  },
  {
   "cell_type": "code",
   "execution_count": 76,
   "metadata": {},
   "outputs": [
    {
     "data": {
      "application/vnd.plotly.v1+json": {
       "config": {
        "linkText": "Export to plot.ly",
        "plotlyServerURL": "https://plot.ly",
        "showLink": false
       },
       "data": [
        {
         "hovertemplate": "Sepsis=Positive<br>Body_mass_index=%{x}<br>Blood_Pressure=%{y}<extra></extra>",
         "legendgroup": "Positive",
         "marker": {
          "color": "#636efa",
          "symbol": "circle"
         },
         "mode": "markers",
         "name": "Positive",
         "orientation": "v",
         "showlegend": true,
         "type": "scatter",
         "x": [
          33.6,
          23.3,
          43.1,
          31,
          30.5,
          0,
          38,
          30.1,
          25.8,
          30,
          45.8,
          29.6,
          34.6,
          39.8,
          29,
          36.6,
          31.1,
          39.4,
          31.6,
          32.9,
          38.2,
          37.1,
          45.4,
          42,
          39.1,
          33.7,
          37.7,
          32.9,
          32.8,
          32.5,
          32.9,
          43.4,
          43.2,
          48.8,
          37.1,
          23.8,
          49.7,
          39,
          37.4,
          33.3,
          34,
          30.5,
          31.2,
          34,
          53.2,
          33.3,
          55,
          34.5,
          27.9,
          29.7,
          33.3,
          34.5,
          32.4,
          34.3,
          47.9,
          50,
          40.9,
          31.6,
          29.9,
          30.8,
          35.4,
          32.7,
          67.1,
          39.1,
          35.9,
          30.1,
          32,
          27.9,
          31.6,
          30.4,
          52.3,
          39.4,
          22.9,
          34.8,
          30.9,
          37.5,
          37.7,
          35.5,
          42.6,
          34.2,
          41.8,
          35.8,
          29,
          37.8,
          34.6,
          31.6,
          37.2,
          44,
          46.2,
          43.6,
          35.9,
          44.1,
          30.8,
          25.6,
          27.1,
          30,
          27.6,
          33.6,
          33.3,
          30,
          32,
          36.3,
          27.5,
          45.6,
          26.5,
          37.9,
          30.4,
          27,
          45.6,
          36.6,
          43.3,
          40.5,
          28,
          36.6,
          32.3,
          31.6,
          52.9,
          25.5,
          30.5,
          32.9,
          26.6,
          35.9,
          30.5,
          23.5,
          31.6,
          27.4,
          26.8,
          35.1,
          45.5,
          43.3,
          31.2,
          34.2,
          39.9,
          41,
          30.4,
          33.3,
          39.9,
          36.5,
          31.2,
          38.5,
          27.6,
          32.8,
          38.4,
          39.2,
          48.3,
          32.3,
          43.3,
          32,
          45.7,
          32.9,
          34.3,
          34.9,
          32,
          35,
          32.9,
          28.9,
          25.9,
          42.4,
          34.6,
          35.7,
          38.5,
          26.4,
          42.9,
          37,
          34.1,
          35,
          42.4,
          34.3,
          30.5,
          29.7,
          59.4,
          33.6,
          28.9,
          33.6,
          37.6,
          30,
          33.7,
          35.5,
          44.2,
          42.3,
          28.9,
          25.1,
          39,
          36.5,
          29.7,
          31.6,
          30.3,
          34.2,
          32.9,
          36.4,
          39.4,
          32.4,
          34.9,
          34.5,
          43.6,
          33.8,
          41.3,
          34.3,
          42.9,
          34.7,
          42.1,
          28.7,
          34.9,
          33.3,
          46.8,
          34.4,
          32,
          36.8
         ],
         "xaxis": "x",
         "y": [
          72,
          64,
          40,
          50,
          70,
          96,
          74,
          60,
          72,
          0,
          84,
          74,
          70,
          90,
          80,
          94,
          70,
          76,
          76,
          76,
          68,
          72,
          110,
          66,
          66,
          90,
          68,
          72,
          66,
          88,
          66,
          90,
          0,
          108,
          70,
          72,
          90,
          72,
          85,
          72,
          62,
          54,
          92,
          74,
          76,
          76,
          30,
          88,
          84,
          70,
          56,
          64,
          66,
          86,
          78,
          88,
          72,
          88,
          74,
          82,
          70,
          72,
          110,
          82,
          68,
          68,
          98,
          76,
          80,
          66,
          0,
          84,
          62,
          64,
          60,
          76,
          104,
          84,
          65,
          82,
          70,
          62,
          74,
          66,
          60,
          90,
          52,
          86,
          80,
          72,
          84,
          90,
          84,
          54,
          50,
          85,
          62,
          64,
          76,
          0,
          62,
          0,
          0,
          86,
          60,
          70,
          86,
          80,
          86,
          62,
          78,
          48,
          70,
          78,
          0,
          58,
          98,
          68,
          68,
          68,
          74,
          80,
          74,
          78,
          74,
          70,
          90,
          64,
          86,
          0,
          76,
          78,
          84,
          80,
          88,
          50,
          0,
          76,
          64,
          78,
          72,
          102,
          82,
          82,
          75,
          74,
          100,
          82,
          76,
          78,
          66,
          70,
          64,
          84,
          64,
          72,
          74,
          68,
          60,
          84,
          82,
          64,
          78,
          78,
          64,
          82,
          0,
          104,
          70,
          62,
          78,
          64,
          70,
          62,
          84,
          0,
          80,
          70,
          0,
          68,
          70,
          70,
          68,
          90,
          72,
          70,
          88,
          70,
          0,
          92,
          74,
          72,
          85,
          90,
          76,
          76,
          66,
          66,
          80,
          70,
          90,
          76,
          66,
          86,
          84,
          80,
          82,
          74
         ],
         "yaxis": "y"
        },
        {
         "hovertemplate": "Sepsis=Negative<br>Body_mass_index=%{x}<br>Blood_Pressure=%{y}<extra></extra>",
         "legendgroup": "Negative",
         "marker": {
          "color": "#EF553B",
          "symbol": "circle"
         },
         "mode": "markers",
         "name": "Negative",
         "orientation": "v",
         "showlegend": true,
         "type": "scatter",
         "x": [
          26.6,
          28.1,
          25.6,
          35.3,
          37.6,
          27.1,
          43.3,
          39.3,
          35.4,
          23.2,
          22.2,
          34.1,
          36,
          24.8,
          19.9,
          27.6,
          24,
          33.2,
          34,
          40.2,
          22.7,
          27.4,
          29.7,
          28,
          0,
          19.4,
          24.2,
          24.4,
          34.7,
          23,
          46.8,
          40.5,
          41.5,
          0,
          25,
          25.4,
          29,
          42.7,
          19.6,
          28.9,
          28.6,
          35.1,
          32,
          24.7,
          32.6,
          37.7,
          25,
          22.4,
          0,
          29.3,
          24.6,
          32.4,
          36.6,
          38.5,
          26.5,
          19.1,
          32,
          46.7,
          24.7,
          33.9,
          31.6,
          20.4,
          28.7,
          26.1,
          22.5,
          26.6,
          39.6,
          28.7,
          22.4,
          29.5,
          34.3,
          31.2,
          34,
          33.7,
          28.2,
          23.2,
          34.2,
          33.6,
          26.8,
          42.9,
          33.3,
          38.3,
          21.1,
          33.8,
          30.8,
          28.7,
          31.2,
          36.9,
          21.1,
          39.5,
          32.5,
          32.8,
          0,
          32.8,
          30.5,
          33.7,
          27.3,
          37.4,
          21.9,
          40.6,
          24.6,
          25.2,
          29,
          29.7,
          37.2,
          44.2,
          29.7,
          32.5,
          29.6,
          31.9,
          28.4,
          28.9,
          43.5,
          29.7,
          31.2,
          45,
          23.2,
          34.9,
          27.7,
          26.8,
          27.6,
          22.6,
          33.1,
          24.4,
          24.3,
          31,
          40.1,
          27.3,
          20.4,
          37.7,
          23.9,
          33.2,
          27.7,
          42.8,
          34.2,
          30,
          25.2,
          28.8,
          23.6,
          34.6,
          35.7,
          36.7,
          45.2,
          25.4,
          35,
          29.7,
          18.4,
          29.2,
          33.1,
          38.2,
          31.2,
          52.3,
          35.4,
          30.1,
          31.2,
          28,
          24.4,
          35.8,
          30.1,
          28.7,
          25.9,
          30.9,
          32.1,
          32.4,
          33.6,
          40,
          25.1,
          25.2,
          23,
          33.2,
          34.2,
          40.5,
          27.8,
          24.9,
          25.3,
          35.9,
          32.4,
          26,
          38.7,
          20.8,
          36.1,
          36.9,
          21.9,
          35.5,
          30.7,
          23.6,
          35.8,
          21,
          39.7,
          24.8,
          26.2,
          39.4,
          29.5,
          34.1,
          19.3,
          38.1,
          27.5,
          35.7,
          25.6,
          35.1,
          30.8,
          23.1,
          32.7,
          23.6,
          23.9,
          47.9,
          33.8,
          25.9,
          25.9,
          32,
          34.7,
          36.8,
          38.5,
          28.7,
          23.5,
          21.8,
          42.2,
          31.2,
          34.4,
          27.2,
          42.7,
          35.3,
          29.8,
          39.2,
          34.9,
          34,
          21,
          27.5,
          0,
          35.8,
          34.9,
          36.2,
          25.2,
          37.2,
          43.4,
          30.8,
          20,
          25.4,
          25.1,
          24.3,
          22.3,
          31.6,
          32,
          23.7,
          22.1,
          27.7,
          24.7,
          21.1,
          24.2,
          31.6,
          42.1,
          21.9,
          35.7,
          34.4,
          42.4,
          26.2,
          27.2,
          18.2,
          45.3,
          26,
          40.6,
          30.8,
          0,
          40.6,
          22.2,
          30.4,
          30,
          25.6,
          24.5,
          37.4,
          29.9,
          18.2,
          36.8,
          32.2,
          33.2,
          25.3,
          36.5,
          30.5,
          21.2,
          39.9,
          19.6,
          37.8,
          26.7,
          30.2,
          25.9,
          20.8,
          21.8,
          35.3,
          27.6,
          24,
          21.8,
          27.8,
          36.8,
          46.1,
          41.3,
          33.2,
          38.8,
          29.9,
          28.9,
          27.3,
          23.8,
          25.9,
          28,
          35.2,
          27.8,
          38.2,
          40.7,
          46.5,
          25.6,
          26.1,
          36.8,
          33.5,
          32.8,
          0,
          26.6,
          26,
          30.1,
          29.3,
          25.2,
          37.2,
          33.3,
          37.3,
          33.3,
          28.6,
          30.4,
          25,
          22.1,
          24.2,
          27.3,
          25.6,
          37.6,
          32.8,
          19.6,
          25,
          33.2,
          0,
          31.6,
          21.8,
          18.2,
          26.3,
          30.8,
          24.6,
          29.8,
          45.3,
          41.3,
          29.8,
          33.3,
          29.6,
          21.7,
          36.3,
          39.5,
          32,
          33.1,
          32.8,
          28.5,
          27.4,
          31.9,
          27.8,
          29.9,
          36.9,
          25.5,
          38.1,
          27.8,
          46.2,
          30.1,
          37.6,
          26.9,
          32.4,
          26.1,
          38.6,
          32,
          31.3,
          32.5,
          22.6,
          29.5,
          34.7,
          30.1,
          35.5,
          24,
          27,
          25,
          26.5,
          38.7,
          22.5,
          24.3,
          21.1,
          39.4,
          28.5,
          33.6,
          45.3,
          27.8
         ],
         "xaxis": "x",
         "y": [
          66,
          66,
          74,
          0,
          92,
          80,
          30,
          88,
          84,
          66,
          82,
          92,
          75,
          58,
          92,
          78,
          60,
          76,
          64,
          84,
          92,
          64,
          56,
          70,
          0,
          80,
          50,
          66,
          66,
          50,
          88,
          82,
          64,
          0,
          62,
          58,
          74,
          92,
          66,
          85,
          64,
          86,
          75,
          48,
          78,
          72,
          66,
          44,
          0,
          78,
          65,
          74,
          72,
          68,
          68,
          55,
          80,
          78,
          82,
          72,
          62,
          48,
          50,
          60,
          96,
          72,
          65,
          56,
          122,
          58,
          58,
          76,
          62,
          48,
          60,
          76,
          64,
          74,
          80,
          70,
          58,
          74,
          68,
          60,
          70,
          60,
          80,
          72,
          78,
          82,
          52,
          62,
          75,
          80,
          64,
          78,
          70,
          74,
          65,
          82,
          52,
          56,
          74,
          90,
          74,
          80,
          64,
          66,
          68,
          66,
          90,
          0,
          60,
          64,
          78,
          78,
          80,
          64,
          74,
          60,
          74,
          62,
          70,
          55,
          58,
          80,
          82,
          68,
          70,
          72,
          72,
          64,
          60,
          85,
          95,
          68,
          0,
          60,
          66,
          78,
          76,
          70,
          80,
          80,
          68,
          68,
          76,
          64,
          70,
          76,
          68,
          90,
          70,
          86,
          52,
          84,
          80,
          68,
          56,
          68,
          50,
          68,
          70,
          80,
          74,
          64,
          52,
          62,
          78,
          78,
          70,
          70,
          64,
          74,
          62,
          76,
          88,
          74,
          84,
          56,
          72,
          88,
          50,
          62,
          84,
          72,
          82,
          76,
          76,
          68,
          66,
          70,
          50,
          68,
          80,
          66,
          60,
          75,
          72,
          70,
          70,
          72,
          58,
          80,
          60,
          76,
          0,
          70,
          74,
          68,
          86,
          72,
          88,
          46,
          0,
          62,
          80,
          84,
          82,
          62,
          78,
          74,
          70,
          108,
          74,
          54,
          64,
          86,
          64,
          64,
          58,
          52,
          82,
          60,
          100,
          72,
          68,
          60,
          62,
          70,
          54,
          68,
          66,
          64,
          72,
          58,
          56,
          70,
          61,
          78,
          48,
          62,
          90,
          72,
          84,
          74,
          68,
          68,
          88,
          68,
          64,
          64,
          0,
          94,
          0,
          74,
          74,
          75,
          68,
          85,
          75,
          70,
          88,
          66,
          64,
          72,
          80,
          74,
          64,
          68,
          0,
          54,
          54,
          68,
          74,
          72,
          62,
          70,
          78,
          98,
          56,
          52,
          64,
          78,
          82,
          70,
          66,
          90,
          64,
          84,
          76,
          74,
          86,
          88,
          58,
          82,
          62,
          78,
          72,
          80,
          65,
          90,
          68,
          0,
          74,
          68,
          72,
          74,
          90,
          72,
          64,
          78,
          82,
          60,
          50,
          78,
          62,
          68,
          62,
          54,
          86,
          60,
          90,
          70,
          80,
          0,
          58,
          60,
          64,
          74,
          66,
          65,
          60,
          76,
          66,
          0,
          56,
          90,
          60,
          80,
          90,
          78,
          68,
          82,
          110,
          70,
          68,
          88,
          62,
          64,
          70,
          70,
          76,
          68,
          74,
          68,
          60,
          80,
          54,
          72,
          62,
          72,
          70,
          96,
          58,
          60,
          86,
          44,
          44,
          68,
          60,
          78,
          76,
          56,
          66,
          0,
          78,
          52,
          72,
          76,
          24
         ],
         "yaxis": "y"
        }
       ],
       "layout": {
        "legend": {
         "title": {
          "text": "Sepsis"
         },
         "tracegroupgap": 0
        },
        "template": {
         "data": {
          "bar": [
           {
            "error_x": {
             "color": "#2a3f5f"
            },
            "error_y": {
             "color": "#2a3f5f"
            },
            "marker": {
             "line": {
              "color": "#E5ECF6",
              "width": 0.5
             },
             "pattern": {
              "fillmode": "overlay",
              "size": 10,
              "solidity": 0.2
             }
            },
            "type": "bar"
           }
          ],
          "barpolar": [
           {
            "marker": {
             "line": {
              "color": "#E5ECF6",
              "width": 0.5
             },
             "pattern": {
              "fillmode": "overlay",
              "size": 10,
              "solidity": 0.2
             }
            },
            "type": "barpolar"
           }
          ],
          "carpet": [
           {
            "aaxis": {
             "endlinecolor": "#2a3f5f",
             "gridcolor": "white",
             "linecolor": "white",
             "minorgridcolor": "white",
             "startlinecolor": "#2a3f5f"
            },
            "baxis": {
             "endlinecolor": "#2a3f5f",
             "gridcolor": "white",
             "linecolor": "white",
             "minorgridcolor": "white",
             "startlinecolor": "#2a3f5f"
            },
            "type": "carpet"
           }
          ],
          "choropleth": [
           {
            "colorbar": {
             "outlinewidth": 0,
             "ticks": ""
            },
            "type": "choropleth"
           }
          ],
          "contour": [
           {
            "colorbar": {
             "outlinewidth": 0,
             "ticks": ""
            },
            "colorscale": [
             [
              0,
              "#0d0887"
             ],
             [
              0.1111111111111111,
              "#46039f"
             ],
             [
              0.2222222222222222,
              "#7201a8"
             ],
             [
              0.3333333333333333,
              "#9c179e"
             ],
             [
              0.4444444444444444,
              "#bd3786"
             ],
             [
              0.5555555555555556,
              "#d8576b"
             ],
             [
              0.6666666666666666,
              "#ed7953"
             ],
             [
              0.7777777777777778,
              "#fb9f3a"
             ],
             [
              0.8888888888888888,
              "#fdca26"
             ],
             [
              1,
              "#f0f921"
             ]
            ],
            "type": "contour"
           }
          ],
          "contourcarpet": [
           {
            "colorbar": {
             "outlinewidth": 0,
             "ticks": ""
            },
            "type": "contourcarpet"
           }
          ],
          "heatmap": [
           {
            "colorbar": {
             "outlinewidth": 0,
             "ticks": ""
            },
            "colorscale": [
             [
              0,
              "#0d0887"
             ],
             [
              0.1111111111111111,
              "#46039f"
             ],
             [
              0.2222222222222222,
              "#7201a8"
             ],
             [
              0.3333333333333333,
              "#9c179e"
             ],
             [
              0.4444444444444444,
              "#bd3786"
             ],
             [
              0.5555555555555556,
              "#d8576b"
             ],
             [
              0.6666666666666666,
              "#ed7953"
             ],
             [
              0.7777777777777778,
              "#fb9f3a"
             ],
             [
              0.8888888888888888,
              "#fdca26"
             ],
             [
              1,
              "#f0f921"
             ]
            ],
            "type": "heatmap"
           }
          ],
          "heatmapgl": [
           {
            "colorbar": {
             "outlinewidth": 0,
             "ticks": ""
            },
            "colorscale": [
             [
              0,
              "#0d0887"
             ],
             [
              0.1111111111111111,
              "#46039f"
             ],
             [
              0.2222222222222222,
              "#7201a8"
             ],
             [
              0.3333333333333333,
              "#9c179e"
             ],
             [
              0.4444444444444444,
              "#bd3786"
             ],
             [
              0.5555555555555556,
              "#d8576b"
             ],
             [
              0.6666666666666666,
              "#ed7953"
             ],
             [
              0.7777777777777778,
              "#fb9f3a"
             ],
             [
              0.8888888888888888,
              "#fdca26"
             ],
             [
              1,
              "#f0f921"
             ]
            ],
            "type": "heatmapgl"
           }
          ],
          "histogram": [
           {
            "marker": {
             "pattern": {
              "fillmode": "overlay",
              "size": 10,
              "solidity": 0.2
             }
            },
            "type": "histogram"
           }
          ],
          "histogram2d": [
           {
            "colorbar": {
             "outlinewidth": 0,
             "ticks": ""
            },
            "colorscale": [
             [
              0,
              "#0d0887"
             ],
             [
              0.1111111111111111,
              "#46039f"
             ],
             [
              0.2222222222222222,
              "#7201a8"
             ],
             [
              0.3333333333333333,
              "#9c179e"
             ],
             [
              0.4444444444444444,
              "#bd3786"
             ],
             [
              0.5555555555555556,
              "#d8576b"
             ],
             [
              0.6666666666666666,
              "#ed7953"
             ],
             [
              0.7777777777777778,
              "#fb9f3a"
             ],
             [
              0.8888888888888888,
              "#fdca26"
             ],
             [
              1,
              "#f0f921"
             ]
            ],
            "type": "histogram2d"
           }
          ],
          "histogram2dcontour": [
           {
            "colorbar": {
             "outlinewidth": 0,
             "ticks": ""
            },
            "colorscale": [
             [
              0,
              "#0d0887"
             ],
             [
              0.1111111111111111,
              "#46039f"
             ],
             [
              0.2222222222222222,
              "#7201a8"
             ],
             [
              0.3333333333333333,
              "#9c179e"
             ],
             [
              0.4444444444444444,
              "#bd3786"
             ],
             [
              0.5555555555555556,
              "#d8576b"
             ],
             [
              0.6666666666666666,
              "#ed7953"
             ],
             [
              0.7777777777777778,
              "#fb9f3a"
             ],
             [
              0.8888888888888888,
              "#fdca26"
             ],
             [
              1,
              "#f0f921"
             ]
            ],
            "type": "histogram2dcontour"
           }
          ],
          "mesh3d": [
           {
            "colorbar": {
             "outlinewidth": 0,
             "ticks": ""
            },
            "type": "mesh3d"
           }
          ],
          "parcoords": [
           {
            "line": {
             "colorbar": {
              "outlinewidth": 0,
              "ticks": ""
             }
            },
            "type": "parcoords"
           }
          ],
          "pie": [
           {
            "automargin": true,
            "type": "pie"
           }
          ],
          "scatter": [
           {
            "fillpattern": {
             "fillmode": "overlay",
             "size": 10,
             "solidity": 0.2
            },
            "type": "scatter"
           }
          ],
          "scatter3d": [
           {
            "line": {
             "colorbar": {
              "outlinewidth": 0,
              "ticks": ""
             }
            },
            "marker": {
             "colorbar": {
              "outlinewidth": 0,
              "ticks": ""
             }
            },
            "type": "scatter3d"
           }
          ],
          "scattercarpet": [
           {
            "marker": {
             "colorbar": {
              "outlinewidth": 0,
              "ticks": ""
             }
            },
            "type": "scattercarpet"
           }
          ],
          "scattergeo": [
           {
            "marker": {
             "colorbar": {
              "outlinewidth": 0,
              "ticks": ""
             }
            },
            "type": "scattergeo"
           }
          ],
          "scattergl": [
           {
            "marker": {
             "colorbar": {
              "outlinewidth": 0,
              "ticks": ""
             }
            },
            "type": "scattergl"
           }
          ],
          "scattermapbox": [
           {
            "marker": {
             "colorbar": {
              "outlinewidth": 0,
              "ticks": ""
             }
            },
            "type": "scattermapbox"
           }
          ],
          "scatterpolar": [
           {
            "marker": {
             "colorbar": {
              "outlinewidth": 0,
              "ticks": ""
             }
            },
            "type": "scatterpolar"
           }
          ],
          "scatterpolargl": [
           {
            "marker": {
             "colorbar": {
              "outlinewidth": 0,
              "ticks": ""
             }
            },
            "type": "scatterpolargl"
           }
          ],
          "scatterternary": [
           {
            "marker": {
             "colorbar": {
              "outlinewidth": 0,
              "ticks": ""
             }
            },
            "type": "scatterternary"
           }
          ],
          "surface": [
           {
            "colorbar": {
             "outlinewidth": 0,
             "ticks": ""
            },
            "colorscale": [
             [
              0,
              "#0d0887"
             ],
             [
              0.1111111111111111,
              "#46039f"
             ],
             [
              0.2222222222222222,
              "#7201a8"
             ],
             [
              0.3333333333333333,
              "#9c179e"
             ],
             [
              0.4444444444444444,
              "#bd3786"
             ],
             [
              0.5555555555555556,
              "#d8576b"
             ],
             [
              0.6666666666666666,
              "#ed7953"
             ],
             [
              0.7777777777777778,
              "#fb9f3a"
             ],
             [
              0.8888888888888888,
              "#fdca26"
             ],
             [
              1,
              "#f0f921"
             ]
            ],
            "type": "surface"
           }
          ],
          "table": [
           {
            "cells": {
             "fill": {
              "color": "#EBF0F8"
             },
             "line": {
              "color": "white"
             }
            },
            "header": {
             "fill": {
              "color": "#C8D4E3"
             },
             "line": {
              "color": "white"
             }
            },
            "type": "table"
           }
          ]
         },
         "layout": {
          "annotationdefaults": {
           "arrowcolor": "#2a3f5f",
           "arrowhead": 0,
           "arrowwidth": 1
          },
          "autotypenumbers": "strict",
          "coloraxis": {
           "colorbar": {
            "outlinewidth": 0,
            "ticks": ""
           }
          },
          "colorscale": {
           "diverging": [
            [
             0,
             "#8e0152"
            ],
            [
             0.1,
             "#c51b7d"
            ],
            [
             0.2,
             "#de77ae"
            ],
            [
             0.3,
             "#f1b6da"
            ],
            [
             0.4,
             "#fde0ef"
            ],
            [
             0.5,
             "#f7f7f7"
            ],
            [
             0.6,
             "#e6f5d0"
            ],
            [
             0.7,
             "#b8e186"
            ],
            [
             0.8,
             "#7fbc41"
            ],
            [
             0.9,
             "#4d9221"
            ],
            [
             1,
             "#276419"
            ]
           ],
           "sequential": [
            [
             0,
             "#0d0887"
            ],
            [
             0.1111111111111111,
             "#46039f"
            ],
            [
             0.2222222222222222,
             "#7201a8"
            ],
            [
             0.3333333333333333,
             "#9c179e"
            ],
            [
             0.4444444444444444,
             "#bd3786"
            ],
            [
             0.5555555555555556,
             "#d8576b"
            ],
            [
             0.6666666666666666,
             "#ed7953"
            ],
            [
             0.7777777777777778,
             "#fb9f3a"
            ],
            [
             0.8888888888888888,
             "#fdca26"
            ],
            [
             1,
             "#f0f921"
            ]
           ],
           "sequentialminus": [
            [
             0,
             "#0d0887"
            ],
            [
             0.1111111111111111,
             "#46039f"
            ],
            [
             0.2222222222222222,
             "#7201a8"
            ],
            [
             0.3333333333333333,
             "#9c179e"
            ],
            [
             0.4444444444444444,
             "#bd3786"
            ],
            [
             0.5555555555555556,
             "#d8576b"
            ],
            [
             0.6666666666666666,
             "#ed7953"
            ],
            [
             0.7777777777777778,
             "#fb9f3a"
            ],
            [
             0.8888888888888888,
             "#fdca26"
            ],
            [
             1,
             "#f0f921"
            ]
           ]
          },
          "colorway": [
           "#636efa",
           "#EF553B",
           "#00cc96",
           "#ab63fa",
           "#FFA15A",
           "#19d3f3",
           "#FF6692",
           "#B6E880",
           "#FF97FF",
           "#FECB52"
          ],
          "font": {
           "color": "#2a3f5f"
          },
          "geo": {
           "bgcolor": "white",
           "lakecolor": "white",
           "landcolor": "#E5ECF6",
           "showlakes": true,
           "showland": true,
           "subunitcolor": "white"
          },
          "hoverlabel": {
           "align": "left"
          },
          "hovermode": "closest",
          "mapbox": {
           "style": "light"
          },
          "paper_bgcolor": "white",
          "plot_bgcolor": "#E5ECF6",
          "polar": {
           "angularaxis": {
            "gridcolor": "white",
            "linecolor": "white",
            "ticks": ""
           },
           "bgcolor": "#E5ECF6",
           "radialaxis": {
            "gridcolor": "white",
            "linecolor": "white",
            "ticks": ""
           }
          },
          "scene": {
           "xaxis": {
            "backgroundcolor": "#E5ECF6",
            "gridcolor": "white",
            "gridwidth": 2,
            "linecolor": "white",
            "showbackground": true,
            "ticks": "",
            "zerolinecolor": "white"
           },
           "yaxis": {
            "backgroundcolor": "#E5ECF6",
            "gridcolor": "white",
            "gridwidth": 2,
            "linecolor": "white",
            "showbackground": true,
            "ticks": "",
            "zerolinecolor": "white"
           },
           "zaxis": {
            "backgroundcolor": "#E5ECF6",
            "gridcolor": "white",
            "gridwidth": 2,
            "linecolor": "white",
            "showbackground": true,
            "ticks": "",
            "zerolinecolor": "white"
           }
          },
          "shapedefaults": {
           "line": {
            "color": "#2a3f5f"
           }
          },
          "ternary": {
           "aaxis": {
            "gridcolor": "white",
            "linecolor": "white",
            "ticks": ""
           },
           "baxis": {
            "gridcolor": "white",
            "linecolor": "white",
            "ticks": ""
           },
           "bgcolor": "#E5ECF6",
           "caxis": {
            "gridcolor": "white",
            "linecolor": "white",
            "ticks": ""
           }
          },
          "title": {
           "x": 0.05
          },
          "xaxis": {
           "automargin": true,
           "gridcolor": "white",
           "linecolor": "white",
           "ticks": "",
           "title": {
            "standoff": 15
           },
           "zerolinecolor": "white",
           "zerolinewidth": 2
          },
          "yaxis": {
           "automargin": true,
           "gridcolor": "white",
           "linecolor": "white",
           "ticks": "",
           "title": {
            "standoff": 15
           },
           "zerolinecolor": "white",
           "zerolinewidth": 2
          }
         }
        },
        "title": {
         "text": "Relationship Between Blood Pressure and Body mass index with Relation To Sepsis"
        },
        "xaxis": {
         "anchor": "y",
         "domain": [
          0,
          1
         ],
         "title": {
          "text": "Body_mass_index"
         }
        },
        "yaxis": {
         "anchor": "x",
         "domain": [
          0,
          1
         ],
         "title": {
          "text": "Blood_Pressure"
         }
        }
       }
      }
     },
     "metadata": {},
     "output_type": "display_data"
    }
   ],
   "source": [
    "#Relationship between Body mass index, blood pressure and Sepsis\n",
    "from plotly.offline import iplot\n",
    "fig_3=px.scatter(train_data, x=\"Body_mass_index\", y= \"Blood_Pressure\",color= \"Sepsis\", \n",
    "                 title= \"Relationship Between Blood Pressure and Body mass index with Relation To Sepsis\")\n",
    "\n",
    "iplot(fig_3)"
   ]
  },
  {
   "cell_type": "code",
   "execution_count": 79,
   "metadata": {},
   "outputs": [
    {
     "name": "stderr",
     "output_type": "stream",
     "text": [
      "C:\\Users\\debor\\AppData\\Local\\Temp\\ipykernel_16560\\3213783336.py:2: FutureWarning:\n",
      "\n",
      "Downcasting behavior in `replace` is deprecated and will be removed in a future version. To retain the old behavior, explicitly call `result.infer_objects(copy=False)`. To opt-in to the future behavior, set `pd.set_option('future.no_silent_downcasting', True)`\n",
      "\n"
     ]
    }
   ],
   "source": [
    "# Replace \"Positive\" with 1 and \"Negative\" with 0\n",
    "train_data['Sepsis'] = train_data['Sepsis'].replace({'Positive': 1, 'Negative': 0})"
   ]
  },
  {
   "cell_type": "code",
   "execution_count": 80,
   "metadata": {},
   "outputs": [
    {
     "name": "stdout",
     "output_type": "stream",
     "text": [
      "ID                       object\n",
      "Plasma_glucose            int64\n",
      "Blood_Work_Result_1       int64\n",
      "Blood_Pressure            int64\n",
      "Blood_Work_Result_2       int64\n",
      "Blood_Work_Result_3       int64\n",
      "Body_mass_index         float64\n",
      "Blood_Work_Result_4     float64\n",
      "Age                       int64\n",
      "Insurance                 int64\n",
      "Sepsis                    int64\n",
      "Age_group              category\n",
      "BMI_Ranges               object\n",
      "dtype: object\n"
     ]
    }
   ],
   "source": [
    "print(train_data.dtypes)\n"
   ]
  },
  {
   "cell_type": "code",
   "execution_count": 81,
   "metadata": {},
   "outputs": [],
   "source": [
    "\n",
    "train_data = train_data.drop([ 'ID', 'BMI_Ranges', 'Age_group'], axis=1)"
   ]
  },
  {
   "cell_type": "code",
   "execution_count": 82,
   "metadata": {},
   "outputs": [
    {
     "name": "stdout",
     "output_type": "stream",
     "text": [
      "Plasma_glucose           int64\n",
      "Blood_Work_Result_1      int64\n",
      "Blood_Pressure           int64\n",
      "Blood_Work_Result_2      int64\n",
      "Blood_Work_Result_3      int64\n",
      "Body_mass_index        float64\n",
      "Blood_Work_Result_4    float64\n",
      "Age                      int64\n",
      "Insurance                int64\n",
      "Sepsis                   int64\n",
      "dtype: object\n"
     ]
    }
   ],
   "source": [
    "print(train_data.dtypes)\n",
    "\n"
   ]
  },
  {
   "cell_type": "code",
   "execution_count": 83,
   "metadata": {},
   "outputs": [
    {
     "data": {
      "text/html": [
       "<div>\n",
       "<style scoped>\n",
       "    .dataframe tbody tr th:only-of-type {\n",
       "        vertical-align: middle;\n",
       "    }\n",
       "\n",
       "    .dataframe tbody tr th {\n",
       "        vertical-align: top;\n",
       "    }\n",
       "\n",
       "    .dataframe thead th {\n",
       "        text-align: right;\n",
       "    }\n",
       "</style>\n",
       "<table border=\"1\" class=\"dataframe\">\n",
       "  <thead>\n",
       "    <tr style=\"text-align: right;\">\n",
       "      <th></th>\n",
       "      <th>Plasma_glucose</th>\n",
       "      <th>Blood_Work_Result_1</th>\n",
       "      <th>Blood_Pressure</th>\n",
       "      <th>Blood_Work_Result_2</th>\n",
       "      <th>Blood_Work_Result_3</th>\n",
       "      <th>Body_mass_index</th>\n",
       "      <th>Blood_Work_Result_4</th>\n",
       "      <th>Age</th>\n",
       "      <th>Insurance</th>\n",
       "      <th>Sepsis</th>\n",
       "    </tr>\n",
       "  </thead>\n",
       "  <tbody>\n",
       "    <tr>\n",
       "      <th>Plasma_glucose</th>\n",
       "      <td>1.000000</td>\n",
       "      <td>0.139541</td>\n",
       "      <td>0.116680</td>\n",
       "      <td>-0.080902</td>\n",
       "      <td>-0.054812</td>\n",
       "      <td>0.033482</td>\n",
       "      <td>-0.052230</td>\n",
       "      <td>0.532545</td>\n",
       "      <td>0.084631</td>\n",
       "      <td>0.207115</td>\n",
       "    </tr>\n",
       "    <tr>\n",
       "      <th>Blood_Work_Result_1</th>\n",
       "      <td>0.139541</td>\n",
       "      <td>1.000000</td>\n",
       "      <td>0.143064</td>\n",
       "      <td>0.054430</td>\n",
       "      <td>0.339818</td>\n",
       "      <td>0.215949</td>\n",
       "      <td>0.144665</td>\n",
       "      <td>0.274057</td>\n",
       "      <td>0.050993</td>\n",
       "      <td>0.449719</td>\n",
       "    </tr>\n",
       "    <tr>\n",
       "      <th>Blood_Pressure</th>\n",
       "      <td>0.116680</td>\n",
       "      <td>0.143064</td>\n",
       "      <td>1.000000</td>\n",
       "      <td>0.197535</td>\n",
       "      <td>0.095281</td>\n",
       "      <td>0.269482</td>\n",
       "      <td>0.008318</td>\n",
       "      <td>0.225625</td>\n",
       "      <td>-0.025365</td>\n",
       "      <td>0.061086</td>\n",
       "    </tr>\n",
       "    <tr>\n",
       "      <th>Blood_Work_Result_2</th>\n",
       "      <td>-0.080902</td>\n",
       "      <td>0.054430</td>\n",
       "      <td>0.197535</td>\n",
       "      <td>1.000000</td>\n",
       "      <td>0.429068</td>\n",
       "      <td>0.377950</td>\n",
       "      <td>0.176592</td>\n",
       "      <td>-0.121553</td>\n",
       "      <td>-0.017360</td>\n",
       "      <td>0.075585</td>\n",
       "    </tr>\n",
       "    <tr>\n",
       "      <th>Blood_Work_Result_3</th>\n",
       "      <td>-0.054812</td>\n",
       "      <td>0.339818</td>\n",
       "      <td>0.095281</td>\n",
       "      <td>0.429068</td>\n",
       "      <td>1.000000</td>\n",
       "      <td>0.184747</td>\n",
       "      <td>0.218313</td>\n",
       "      <td>-0.011523</td>\n",
       "      <td>0.041560</td>\n",
       "      <td>0.145892</td>\n",
       "    </tr>\n",
       "    <tr>\n",
       "      <th>Body_mass_index</th>\n",
       "      <td>0.033482</td>\n",
       "      <td>0.215949</td>\n",
       "      <td>0.269482</td>\n",
       "      <td>0.377950</td>\n",
       "      <td>0.184747</td>\n",
       "      <td>1.000000</td>\n",
       "      <td>0.127675</td>\n",
       "      <td>0.046117</td>\n",
       "      <td>0.026826</td>\n",
       "      <td>0.315894</td>\n",
       "    </tr>\n",
       "    <tr>\n",
       "      <th>Blood_Work_Result_4</th>\n",
       "      <td>-0.052230</td>\n",
       "      <td>0.144665</td>\n",
       "      <td>0.008318</td>\n",
       "      <td>0.176592</td>\n",
       "      <td>0.218313</td>\n",
       "      <td>0.127675</td>\n",
       "      <td>1.000000</td>\n",
       "      <td>0.033567</td>\n",
       "      <td>0.006114</td>\n",
       "      <td>0.181561</td>\n",
       "    </tr>\n",
       "    <tr>\n",
       "      <th>Age</th>\n",
       "      <td>0.532545</td>\n",
       "      <td>0.274057</td>\n",
       "      <td>0.225625</td>\n",
       "      <td>-0.121553</td>\n",
       "      <td>-0.011523</td>\n",
       "      <td>0.046117</td>\n",
       "      <td>0.033567</td>\n",
       "      <td>1.000000</td>\n",
       "      <td>0.054368</td>\n",
       "      <td>0.210234</td>\n",
       "    </tr>\n",
       "    <tr>\n",
       "      <th>Insurance</th>\n",
       "      <td>0.084631</td>\n",
       "      <td>0.050993</td>\n",
       "      <td>-0.025365</td>\n",
       "      <td>-0.017360</td>\n",
       "      <td>0.041560</td>\n",
       "      <td>0.026826</td>\n",
       "      <td>0.006114</td>\n",
       "      <td>0.054368</td>\n",
       "      <td>1.000000</td>\n",
       "      <td>0.062582</td>\n",
       "    </tr>\n",
       "    <tr>\n",
       "      <th>Sepsis</th>\n",
       "      <td>0.207115</td>\n",
       "      <td>0.449719</td>\n",
       "      <td>0.061086</td>\n",
       "      <td>0.075585</td>\n",
       "      <td>0.145892</td>\n",
       "      <td>0.315894</td>\n",
       "      <td>0.181561</td>\n",
       "      <td>0.210234</td>\n",
       "      <td>0.062582</td>\n",
       "      <td>1.000000</td>\n",
       "    </tr>\n",
       "  </tbody>\n",
       "</table>\n",
       "</div>"
      ],
      "text/plain": [
       "                     Plasma_glucose  Blood_Work_Result_1  Blood_Pressure  \\\n",
       "Plasma_glucose             1.000000             0.139541        0.116680   \n",
       "Blood_Work_Result_1        0.139541             1.000000        0.143064   \n",
       "Blood_Pressure             0.116680             0.143064        1.000000   \n",
       "Blood_Work_Result_2       -0.080902             0.054430        0.197535   \n",
       "Blood_Work_Result_3       -0.054812             0.339818        0.095281   \n",
       "Body_mass_index            0.033482             0.215949        0.269482   \n",
       "Blood_Work_Result_4       -0.052230             0.144665        0.008318   \n",
       "Age                        0.532545             0.274057        0.225625   \n",
       "Insurance                  0.084631             0.050993       -0.025365   \n",
       "Sepsis                     0.207115             0.449719        0.061086   \n",
       "\n",
       "                     Blood_Work_Result_2  Blood_Work_Result_3  \\\n",
       "Plasma_glucose                 -0.080902            -0.054812   \n",
       "Blood_Work_Result_1             0.054430             0.339818   \n",
       "Blood_Pressure                  0.197535             0.095281   \n",
       "Blood_Work_Result_2             1.000000             0.429068   \n",
       "Blood_Work_Result_3             0.429068             1.000000   \n",
       "Body_mass_index                 0.377950             0.184747   \n",
       "Blood_Work_Result_4             0.176592             0.218313   \n",
       "Age                            -0.121553            -0.011523   \n",
       "Insurance                      -0.017360             0.041560   \n",
       "Sepsis                          0.075585             0.145892   \n",
       "\n",
       "                     Body_mass_index  Blood_Work_Result_4       Age  \\\n",
       "Plasma_glucose              0.033482            -0.052230  0.532545   \n",
       "Blood_Work_Result_1         0.215949             0.144665  0.274057   \n",
       "Blood_Pressure              0.269482             0.008318  0.225625   \n",
       "Blood_Work_Result_2         0.377950             0.176592 -0.121553   \n",
       "Blood_Work_Result_3         0.184747             0.218313 -0.011523   \n",
       "Body_mass_index             1.000000             0.127675  0.046117   \n",
       "Blood_Work_Result_4         0.127675             1.000000  0.033567   \n",
       "Age                         0.046117             0.033567  1.000000   \n",
       "Insurance                   0.026826             0.006114  0.054368   \n",
       "Sepsis                      0.315894             0.181561  0.210234   \n",
       "\n",
       "                     Insurance    Sepsis  \n",
       "Plasma_glucose        0.084631  0.207115  \n",
       "Blood_Work_Result_1   0.050993  0.449719  \n",
       "Blood_Pressure       -0.025365  0.061086  \n",
       "Blood_Work_Result_2  -0.017360  0.075585  \n",
       "Blood_Work_Result_3   0.041560  0.145892  \n",
       "Body_mass_index       0.026826  0.315894  \n",
       "Blood_Work_Result_4   0.006114  0.181561  \n",
       "Age                   0.054368  0.210234  \n",
       "Insurance             1.000000  0.062582  \n",
       "Sepsis                0.062582  1.000000  "
      ]
     },
     "execution_count": 83,
     "metadata": {},
     "output_type": "execute_result"
    }
   ],
   "source": [
    "corr_matrix = train_data.corr()\n",
    "corr_matrix"
   ]
  },
  {
   "cell_type": "code",
   "execution_count": 84,
   "metadata": {},
   "outputs": [
    {
     "data": {
      "image/png": "[encoded data removed]",
      "text/plain": [
       "<Figure size 800x500 with 2 Axes>"
      ]
     },
     "metadata": {},
     "output_type": "display_data"
    }
   ],
   "source": [
    "# Plot a heatmap for the correlations\n",
    "plt.figure(figsize=(8, 5))\n",
    "sns.heatmap(corr_matrix, annot=True)\n",
    "plt.show();"
   ]
  },
  {
   "cell_type": "markdown",
   "metadata": {},
   "source": [
    "**Remarks**\n",
    "\n",
    "There was a strong correlation (0.53) between Plasma Glucose and Age and it was the highest correlation. This give an indication that as one ages, there is a tendency for one's plasma glucose level to increase.\n",
    "The lowest correlation was -0.012 between Blood Work Result-3 and Age."
   ]
  },
  {
   "cell_type": "markdown",
   "metadata": {},
   "source": [
    "## Feature Processing"
   ]
  },
  {
   "cell_type": "code",
   "execution_count": 85,
   "metadata": {},
   "outputs": [
    {
     "data": {
      "text/plain": [
       "Index(['Plasma_glucose', 'Blood_Work_Result_1', 'Blood_Pressure',\n",
       "       'Blood_Work_Result_2', 'Blood_Work_Result_3', 'Body_mass_index',\n",
       "       'Blood_Work_Result_4', 'Age', 'Insurance', 'Sepsis'],\n",
       "      dtype='object')"
      ]
     },
     "execution_count": 85,
     "metadata": {},
     "output_type": "execute_result"
    }
   ],
   "source": [
    "#In this section, the dataset is cleaned and the best features are processed for the models.\n",
    "train_data.columns"
   ]
  },
  {
   "cell_type": "code",
   "execution_count": 86,
   "metadata": {},
   "outputs": [
    {
     "name": "stdout",
     "output_type": "stream",
     "text": [
      "Plasma_glucose           int64\n",
      "Blood_Work_Result_1      int64\n",
      "Blood_Pressure           int64\n",
      "Blood_Work_Result_2      int64\n",
      "Blood_Work_Result_3      int64\n",
      "Body_mass_index        float64\n",
      "Blood_Work_Result_4    float64\n",
      "Age                      int64\n",
      "Insurance                int64\n",
      "Sepsis                   int64\n",
      "dtype: object\n"
     ]
    }
   ],
   "source": [
    "print(train_data.dtypes)"
   ]
  },
  {
   "cell_type": "code",
   "execution_count": 87,
   "metadata": {},
   "outputs": [
    {
     "data": {
      "text/plain": [
       "Sepsis\n",
       "0    391\n",
       "1    208\n",
       "Name: count, dtype: int64"
      ]
     },
     "execution_count": 87,
     "metadata": {},
     "output_type": "execute_result"
    }
   ],
   "source": [
    "#counting the unique values in the target(sepsis)\n",
    "\n",
    "train_data.Sepsis.value_counts()"
   ]
  },
  {
   "cell_type": "markdown",
   "metadata": {},
   "source": [
    "### Splitting the data"
   ]
  },
  {
   "cell_type": "code",
   "execution_count": 88,
   "metadata": {},
   "outputs": [],
   "source": [
    "X = train_data.drop('Sepsis', axis=1)\n",
    "y = train_data.Sepsis"
   ]
  },
  {
   "cell_type": "code",
   "execution_count": 89,
   "metadata": {},
   "outputs": [
    {
     "data": {
      "text/plain": [
       "((479, 9), (120, 9), (479,), (120,))"
      ]
     },
     "execution_count": 89,
     "metadata": {},
     "output_type": "execute_result"
    }
   ],
   "source": [
    "# Split the data into training and testing sets\n",
    "X_train, X_test, y_train, y_test = train_test_split(X, y, test_size=0.2, random_state=42)\n",
    "\n",
    "#checking shape after splitting\n",
    "X_train.shape,X_test.shape,y_train.shape,y_test.shape"
   ]
  },
  {
   "cell_type": "code",
   "execution_count": 90,
   "metadata": {},
   "outputs": [
    {
     "data": {
      "text/html": [
       "<div>\n",
       "<style scoped>\n",
       "    .dataframe tbody tr th:only-of-type {\n",
       "        vertical-align: middle;\n",
       "    }\n",
       "\n",
       "    .dataframe tbody tr th {\n",
       "        vertical-align: top;\n",
       "    }\n",
       "\n",
       "    .dataframe thead th {\n",
       "        text-align: right;\n",
       "    }\n",
       "</style>\n",
       "<table border=\"1\" class=\"dataframe\">\n",
       "  <thead>\n",
       "    <tr style=\"text-align: right;\">\n",
       "      <th></th>\n",
       "      <th>Plasma_glucose</th>\n",
       "      <th>Blood_Work_Result_1</th>\n",
       "      <th>Blood_Pressure</th>\n",
       "      <th>Blood_Work_Result_2</th>\n",
       "      <th>Blood_Work_Result_3</th>\n",
       "      <th>Body_mass_index</th>\n",
       "      <th>Blood_Work_Result_4</th>\n",
       "      <th>Age</th>\n",
       "      <th>Insurance</th>\n",
       "    </tr>\n",
       "  </thead>\n",
       "  <tbody>\n",
       "    <tr>\n",
       "      <th>145</th>\n",
       "      <td>0</td>\n",
       "      <td>102</td>\n",
       "      <td>75</td>\n",
       "      <td>23</td>\n",
       "      <td>0</td>\n",
       "      <td>0.0</td>\n",
       "      <td>0.572</td>\n",
       "      <td>21</td>\n",
       "      <td>1</td>\n",
       "    </tr>\n",
       "    <tr>\n",
       "      <th>9</th>\n",
       "      <td>8</td>\n",
       "      <td>125</td>\n",
       "      <td>96</td>\n",
       "      <td>0</td>\n",
       "      <td>0</td>\n",
       "      <td>0.0</td>\n",
       "      <td>0.232</td>\n",
       "      <td>54</td>\n",
       "      <td>1</td>\n",
       "    </tr>\n",
       "    <tr>\n",
       "      <th>375</th>\n",
       "      <td>12</td>\n",
       "      <td>140</td>\n",
       "      <td>82</td>\n",
       "      <td>43</td>\n",
       "      <td>325</td>\n",
       "      <td>39.2</td>\n",
       "      <td>0.528</td>\n",
       "      <td>58</td>\n",
       "      <td>1</td>\n",
       "    </tr>\n",
       "    <tr>\n",
       "      <th>522</th>\n",
       "      <td>6</td>\n",
       "      <td>114</td>\n",
       "      <td>0</td>\n",
       "      <td>0</td>\n",
       "      <td>0</td>\n",
       "      <td>0.0</td>\n",
       "      <td>0.189</td>\n",
       "      <td>26</td>\n",
       "      <td>1</td>\n",
       "    </tr>\n",
       "    <tr>\n",
       "      <th>188</th>\n",
       "      <td>8</td>\n",
       "      <td>109</td>\n",
       "      <td>76</td>\n",
       "      <td>39</td>\n",
       "      <td>114</td>\n",
       "      <td>27.9</td>\n",
       "      <td>0.640</td>\n",
       "      <td>31</td>\n",
       "      <td>0</td>\n",
       "    </tr>\n",
       "    <tr>\n",
       "      <th>...</th>\n",
       "      <td>...</td>\n",
       "      <td>...</td>\n",
       "      <td>...</td>\n",
       "      <td>...</td>\n",
       "      <td>...</td>\n",
       "      <td>...</td>\n",
       "      <td>...</td>\n",
       "      <td>...</td>\n",
       "      <td>...</td>\n",
       "    </tr>\n",
       "    <tr>\n",
       "      <th>71</th>\n",
       "      <td>5</td>\n",
       "      <td>139</td>\n",
       "      <td>64</td>\n",
       "      <td>35</td>\n",
       "      <td>140</td>\n",
       "      <td>28.6</td>\n",
       "      <td>0.411</td>\n",
       "      <td>26</td>\n",
       "      <td>1</td>\n",
       "    </tr>\n",
       "    <tr>\n",
       "      <th>106</th>\n",
       "      <td>1</td>\n",
       "      <td>96</td>\n",
       "      <td>122</td>\n",
       "      <td>0</td>\n",
       "      <td>0</td>\n",
       "      <td>22.4</td>\n",
       "      <td>0.207</td>\n",
       "      <td>27</td>\n",
       "      <td>1</td>\n",
       "    </tr>\n",
       "    <tr>\n",
       "      <th>270</th>\n",
       "      <td>10</td>\n",
       "      <td>101</td>\n",
       "      <td>86</td>\n",
       "      <td>37</td>\n",
       "      <td>0</td>\n",
       "      <td>45.6</td>\n",
       "      <td>1.136</td>\n",
       "      <td>38</td>\n",
       "      <td>0</td>\n",
       "    </tr>\n",
       "    <tr>\n",
       "      <th>435</th>\n",
       "      <td>0</td>\n",
       "      <td>141</td>\n",
       "      <td>0</td>\n",
       "      <td>0</td>\n",
       "      <td>0</td>\n",
       "      <td>42.4</td>\n",
       "      <td>0.205</td>\n",
       "      <td>29</td>\n",
       "      <td>1</td>\n",
       "    </tr>\n",
       "    <tr>\n",
       "      <th>102</th>\n",
       "      <td>0</td>\n",
       "      <td>125</td>\n",
       "      <td>96</td>\n",
       "      <td>0</td>\n",
       "      <td>0</td>\n",
       "      <td>22.5</td>\n",
       "      <td>0.262</td>\n",
       "      <td>21</td>\n",
       "      <td>1</td>\n",
       "    </tr>\n",
       "  </tbody>\n",
       "</table>\n",
       "<p>479 rows × 9 columns</p>\n",
       "</div>"
      ],
      "text/plain": [
       "     Plasma_glucose  Blood_Work_Result_1  Blood_Pressure  Blood_Work_Result_2  \\\n",
       "145               0                  102              75                   23   \n",
       "9                 8                  125              96                    0   \n",
       "375              12                  140              82                   43   \n",
       "522               6                  114               0                    0   \n",
       "188               8                  109              76                   39   \n",
       "..              ...                  ...             ...                  ...   \n",
       "71                5                  139              64                   35   \n",
       "106               1                   96             122                    0   \n",
       "270              10                  101              86                   37   \n",
       "435               0                  141               0                    0   \n",
       "102               0                  125              96                    0   \n",
       "\n",
       "     Blood_Work_Result_3  Body_mass_index  Blood_Work_Result_4  Age  Insurance  \n",
       "145                    0              0.0                0.572   21          1  \n",
       "9                      0              0.0                0.232   54          1  \n",
       "375                  325             39.2                0.528   58          1  \n",
       "522                    0              0.0                0.189   26          1  \n",
       "188                  114             27.9                0.640   31          0  \n",
       "..                   ...              ...                  ...  ...        ...  \n",
       "71                   140             28.6                0.411   26          1  \n",
       "106                    0             22.4                0.207   27          1  \n",
       "270                    0             45.6                1.136   38          0  \n",
       "435                    0             42.4                0.205   29          1  \n",
       "102                    0             22.5                0.262   21          1  \n",
       "\n",
       "[479 rows x 9 columns]"
      ]
     },
     "execution_count": 90,
     "metadata": {},
     "output_type": "execute_result"
    }
   ],
   "source": [
    "X_train"
   ]
  },
  {
   "cell_type": "code",
   "execution_count": 91,
   "metadata": {},
   "outputs": [
    {
     "data": {
      "text/plain": [
       "Plasma_glucose         0\n",
       "Blood_Work_Result_1    0\n",
       "Blood_Pressure         0\n",
       "Blood_Work_Result_2    0\n",
       "Blood_Work_Result_3    0\n",
       "Body_mass_index        0\n",
       "Blood_Work_Result_4    0\n",
       "Age                    0\n",
       "Insurance              0\n",
       "dtype: int64"
      ]
     },
     "execution_count": 91,
     "metadata": {},
     "output_type": "execute_result"
    }
   ],
   "source": [
    "# checking for missing values\n",
    "X_train.isna().sum()"
   ]
  },
  {
   "cell_type": "code",
   "execution_count": 92,
   "metadata": {},
   "outputs": [
    {
     "data": {
      "text/plain": [
       "145    0\n",
       "9      1\n",
       "375    1\n",
       "522    0\n",
       "188    1\n",
       "      ..\n",
       "71     0\n",
       "106    0\n",
       "270    1\n",
       "435    1\n",
       "102    0\n",
       "Name: Sepsis, Length: 479, dtype: int64"
      ]
     },
     "execution_count": 92,
     "metadata": {},
     "output_type": "execute_result"
    }
   ],
   "source": [
    "y_train"
   ]
  },
  {
   "cell_type": "code",
   "execution_count": 93,
   "metadata": {},
   "outputs": [
    {
     "data": {
      "text/plain": [
       "np.int64(0)"
      ]
     },
     "execution_count": 93,
     "metadata": {},
     "output_type": "execute_result"
    }
   ],
   "source": [
    "y_train.isna().sum()"
   ]
  },
  {
   "cell_type": "code",
   "execution_count": 94,
   "metadata": {},
   "outputs": [
    {
     "data": {
      "text/plain": [
       "{'Plasma_glucose': dtype('int64'),\n",
       " 'Blood_Work_Result_1': dtype('int64'),\n",
       " 'Blood_Pressure': dtype('int64'),\n",
       " 'Blood_Work_Result_2': dtype('int64'),\n",
       " 'Blood_Work_Result_3': dtype('int64'),\n",
       " 'Body_mass_index': dtype('float64'),\n",
       " 'Blood_Work_Result_4': dtype('float64'),\n",
       " 'Age': dtype('int64'),\n",
       " 'Insurance': dtype('int64')}"
      ]
     },
     "execution_count": 94,
     "metadata": {},
     "output_type": "execute_result"
    }
   ],
   "source": [
    "# check for datatypes\n",
    "def check_dtypes(data_frame):\n",
    "    dtypes_dict = data_frame.dtypes.to_dict()\n",
    "    return dtypes_dict\n",
    "\n",
    "check_dtypes(X_train)"
   ]
  },
  {
   "cell_type": "code",
   "execution_count": 95,
   "metadata": {},
   "outputs": [],
   "source": [
    "numerical_attributes= X_train.columns"
   ]
  },
  {
   "cell_type": "markdown",
   "metadata": {},
   "source": [
    "### Detecting imbalance"
   ]
  },
  {
   "cell_type": "code",
   "execution_count": 96,
   "metadata": {},
   "outputs": [
    {
     "name": "stderr",
     "output_type": "stream",
     "text": [
      "C:\\Users\\debor\\AppData\\Local\\Temp\\ipykernel_16560\\1119200391.py:2: FutureWarning:\n",
      "\n",
      "\n",
      "\n",
      "Passing `palette` without assigning `hue` is deprecated and will be removed in v0.14.0. Assign the `x` variable to `hue` and set `legend=False` for the same effect.\n",
      "\n",
      "\n"
     ]
    },
    {
     "data": {
      "image/png": "[encoded data removed]",
      "text/plain": [
       "<Figure size 640x480 with 1 Axes>"
      ]
     },
     "metadata": {},
     "output_type": "display_data"
    },
    {
     "name": "stdout",
     "output_type": "stream",
     "text": [
      "Sepsis\n",
      "0    314\n",
      "1    165\n",
      "Name: count, dtype: int64\n"
     ]
    }
   ],
   "source": [
    "# Count and plot the distribution of the original 'Sepsis' classes\n",
    "sns.countplot(x=y_train, palette='Set2')\n",
    "plt.title('Original Distribution of Sepsis Classes')\n",
    "plt.show()\n",
    "\n",
    "# Check the distribution of values in the 'Sepsis' column\n",
    "sepsis_distribution = y_train.value_counts()\n",
    "\n",
    "# Print the distribution\n",
    "print(sepsis_distribution)"
   ]
  },
  {
   "cell_type": "markdown",
   "metadata": {},
   "source": [
    "Dataset is imbalanced so we can't use Accuracy Score to choose our model\n",
    "\n",
    "To solve this issue: we'll oversample our minority class using RandomOverSampler"
   ]
  },
  {
   "cell_type": "code",
   "execution_count": 97,
   "metadata": {},
   "outputs": [
    {
     "name": "stderr",
     "output_type": "stream",
     "text": [
      "C:\\Users\\debor\\AppData\\Local\\Temp\\ipykernel_16560\\694402632.py:7: FutureWarning:\n",
      "\n",
      "\n",
      "\n",
      "Passing `palette` without assigning `hue` is deprecated and will be removed in v0.14.0. Assign the `x` variable to `hue` and set `legend=False` for the same effect.\n",
      "\n",
      "\n"
     ]
    },
    {
     "data": {
      "image/png": "[encoded data removed]",
      "text/plain": [
       "<Figure size 800x600 with 1 Axes>"
      ]
     },
     "metadata": {},
     "output_type": "display_data"
    },
    {
     "name": "stdout",
     "output_type": "stream",
     "text": [
      "Sepsis\n",
      "0    314\n",
      "1    314\n",
      "Name: count, dtype: int64\n"
     ]
    }
   ],
   "source": [
    "# Apply SMOTE to oversample the minority class\n",
    "smote = SMOTE(random_state=42)\n",
    "X_resampled, y_resampled = smote.fit_resample(X_train, y_train)\n",
    "\n",
    "# Count and plot the distribution of the resampled 'Sepsis' classes\n",
    "plt.figure(figsize=(8, 6))\n",
    "sns.countplot(x=y_resampled, palette='Set2')\n",
    "plt.title('Resampled Distribution of Sepsis Classes using SMOTE')\n",
    "plt.show()\n",
    "\n",
    "# Check the distribution of values in the 'Sepsis' column\n",
    "sepsis_distribution = y_resampled.value_counts()\n",
    "\n",
    "# Print the distribution\n",
    "print(sepsis_distribution)"
   ]
  },
  {
   "cell_type": "markdown",
   "metadata": {},
   "source": [
    "## **Feature Scaling**"
   ]
  },
  {
   "cell_type": "code",
   "execution_count": 98,
   "metadata": {},
   "outputs": [],
   "source": [
    "# Create an instance of StandardScaler and set output to be a DataFrame\n",
    "scaler = StandardScaler().fit(X_train).set_output (transform=\"pandas\")\n",
    "\n",
    "# Scale the training data\n",
    "X_train_df = scaler.transform(X_train)\n",
    "\n",
    "# Scale the test data using the same scaler\n",
    "X_test_df = scaler.transform(X_test)"
   ]
  },
  {
   "cell_type": "markdown",
   "metadata": {},
   "source": [
    "## **Modelling and Evaluation**"
   ]
  },
  {
   "cell_type": "code",
   "execution_count": 100,
   "metadata": {},
   "outputs": [],
   "source": [
    "# Initialize models\n",
    "models = {\n",
    "    'Logistic Regression': LogisticRegression(),\n",
    "    'Random Forest': RandomForestClassifier(),\n",
    "    'XGBoost': XGBClassifier(),\n",
    "    'K Nearest Neighbors': KNeighborsClassifier(),\n",
    "    'Support Vector Machines': SVC(),\n",
    "    'Decision Tree': DecisionTreeClassifier(),\n",
    "    'Gradient Boosting': GradientBoostingClassifier()\n",
    "}"
   ]
  },
  {
   "cell_type": "code",
   "execution_count": null,
   "metadata": {},
   "outputs": [
    {
     "name": "stdout",
     "output_type": "stream",
     "text": [
      "\n",
      "Evaluating Logistic Regression...\n",
      "\n",
      "Evaluating Random Forest...\n"
     ]
    },
    {
     "name": "stderr",
     "output_type": "stream",
     "text": [
      "c:\\Python312\\Lib\\site-packages\\sklearn\\linear_model\\_logistic.py:469: ConvergenceWarning:\n",
      "\n",
      "lbfgs failed to converge (status=1):\n",
      "STOP: TOTAL NO. of ITERATIONS REACHED LIMIT.\n",
      "\n",
      "Increase the number of iterations (max_iter) or scale the data as shown in:\n",
      "    https://scikit-learn.org/stable/modules/preprocessing.html\n",
      "Please also refer to the documentation for alternative solver options:\n",
      "    https://scikit-learn.org/stable/modules/linear_model.html#logistic-regression\n",
      "\n",
      "C:\\Users\\debor\\AppData\\Local\\Temp\\ipykernel_16560\\4206226768.py:59: FutureWarning:\n",
      "\n",
      "The behavior of DataFrame concatenation with empty or all-NA entries is deprecated. In a future version, this will no longer exclude empty or all-NA columns when determining the result dtypes. To retain the old behavior, exclude the relevant entries before the concat operation.\n",
      "\n"
     ]
    },
    {
     "name": "stdout",
     "output_type": "stream",
     "text": [
      "\n",
      "Evaluating XGBoost...\n",
      "\n",
      "Evaluating K Nearest Neighbors...\n",
      "\n",
      "Evaluating Support Vector Machines...\n",
      "\n",
      "Evaluating Decision Tree...\n",
      "\n",
      "Evaluating Gradient Boosting...\n"
     ]
    }
   ],
   "source": [
    "import pandas as pd\n",
    "from sklearn.metrics import accuracy_score, precision_score, recall_score, f1_score, roc_auc_score\n",
    "\n",
    "# Initialize DataFrame to store results\n",
    "results_df = pd.DataFrame(columns=['Model', 'Accuracy', 'Precision', 'Recall', 'F1 Score', 'ROC AUC'])\n",
    "\n",
    "# Train and evaluate each model\n",
    "for name, model in models.items():\n",
    "    print(f\"\\nEvaluating {name}...\")\n",
    "\n",
    "    # Train the model\n",
    "    model.fit(X_train, y_train)\n",
    "\n",
    "    # Predictions\n",
    "    y_pred = model.predict(X_test)\n",
    "\n",
    "    # Evaluation metrics\n",
    "    accuracy = accuracy_score(y_test, y_pred)\n",
    "    precision = precision_score(y_test, y_pred, average='binary')  # Specify 'binary' for binary classification\n",
    "    recall = recall_score(y_test, y_pred, average='binary')\n",
    "    f1 = f1_score(y_test, y_pred, average='binary')\n",
    "    roc_auc = roc_auc_score(y_test, y_pred)\n",
    "\n",
    "    # Create a new DataFrame for the results\n",
    "    new_row = pd.DataFrame([{\n",
    "        'Model': name,\n",
    "        'Accuracy': accuracy,\n",
    "        'Precision': precision,\n",
    "        'Recall': recall,\n",
    "        'F1 Score': f1,\n",
    "        'ROC AUC': roc_auc\n",
    "    }])\n",
    "\n",
    "    # Concatenate the new row to the results DataFrame\n",
    "    results_df = pd.concat([results_df, new_row], ignore_index=True)\n"
   ]
  },
  {
   "cell_type": "code",
   "execution_count": 106,
   "metadata": {},
   "outputs": [
    {
     "name": "stdout",
     "output_type": "stream",
     "text": [
      "\n",
      "Results Summary:\n"
     ]
    },
    {
     "data": {
      "text/html": [
       "<div>\n",
       "<style scoped>\n",
       "    .dataframe tbody tr th:only-of-type {\n",
       "        vertical-align: middle;\n",
       "    }\n",
       "\n",
       "    .dataframe tbody tr th {\n",
       "        vertical-align: top;\n",
       "    }\n",
       "\n",
       "    .dataframe thead th {\n",
       "        text-align: right;\n",
       "    }\n",
       "</style>\n",
       "<table border=\"1\" class=\"dataframe\">\n",
       "  <thead>\n",
       "    <tr style=\"text-align: right;\">\n",
       "      <th></th>\n",
       "      <th>Model</th>\n",
       "      <th>Accuracy</th>\n",
       "      <th>Precision</th>\n",
       "      <th>Recall</th>\n",
       "      <th>F1 Score</th>\n",
       "      <th>ROC AUC</th>\n",
       "    </tr>\n",
       "  </thead>\n",
       "  <tbody>\n",
       "    <tr>\n",
       "      <th>0</th>\n",
       "      <td>Logistic Regression</td>\n",
       "      <td>0.758333</td>\n",
       "      <td>0.684211</td>\n",
       "      <td>0.604651</td>\n",
       "      <td>0.641975</td>\n",
       "      <td>0.724404</td>\n",
       "    </tr>\n",
       "    <tr>\n",
       "      <th>1</th>\n",
       "      <td>Random Forest</td>\n",
       "      <td>0.708333</td>\n",
       "      <td>0.590909</td>\n",
       "      <td>0.604651</td>\n",
       "      <td>0.597701</td>\n",
       "      <td>0.685442</td>\n",
       "    </tr>\n",
       "    <tr>\n",
       "      <th>2</th>\n",
       "      <td>XGBoost</td>\n",
       "      <td>0.733333</td>\n",
       "      <td>0.617021</td>\n",
       "      <td>0.674419</td>\n",
       "      <td>0.644444</td>\n",
       "      <td>0.720326</td>\n",
       "    </tr>\n",
       "    <tr>\n",
       "      <th>3</th>\n",
       "      <td>K Nearest Neighbors</td>\n",
       "      <td>0.716667</td>\n",
       "      <td>0.609756</td>\n",
       "      <td>0.581395</td>\n",
       "      <td>0.595238</td>\n",
       "      <td>0.686802</td>\n",
       "    </tr>\n",
       "    <tr>\n",
       "      <th>4</th>\n",
       "      <td>Support Vector Machines</td>\n",
       "      <td>0.725000</td>\n",
       "      <td>0.631579</td>\n",
       "      <td>0.558140</td>\n",
       "      <td>0.592593</td>\n",
       "      <td>0.688161</td>\n",
       "    </tr>\n",
       "    <tr>\n",
       "      <th>5</th>\n",
       "      <td>Decision Tree</td>\n",
       "      <td>0.708333</td>\n",
       "      <td>0.605263</td>\n",
       "      <td>0.534884</td>\n",
       "      <td>0.567901</td>\n",
       "      <td>0.670039</td>\n",
       "    </tr>\n",
       "    <tr>\n",
       "      <th>6</th>\n",
       "      <td>Gradient Boosting</td>\n",
       "      <td>0.758333</td>\n",
       "      <td>0.659091</td>\n",
       "      <td>0.674419</td>\n",
       "      <td>0.666667</td>\n",
       "      <td>0.739807</td>\n",
       "    </tr>\n",
       "  </tbody>\n",
       "</table>\n",
       "</div>"
      ],
      "text/plain": [
       "                     Model  Accuracy  Precision    Recall  F1 Score   ROC AUC\n",
       "0      Logistic Regression  0.758333   0.684211  0.604651  0.641975  0.724404\n",
       "1            Random Forest  0.708333   0.590909  0.604651  0.597701  0.685442\n",
       "2                  XGBoost  0.733333   0.617021  0.674419  0.644444  0.720326\n",
       "3      K Nearest Neighbors  0.716667   0.609756  0.581395  0.595238  0.686802\n",
       "4  Support Vector Machines  0.725000   0.631579  0.558140  0.592593  0.688161\n",
       "5            Decision Tree  0.708333   0.605263  0.534884  0.567901  0.670039\n",
       "6        Gradient Boosting  0.758333   0.659091  0.674419  0.666667  0.739807"
      ]
     },
     "execution_count": 106,
     "metadata": {},
     "output_type": "execute_result"
    }
   ],
   "source": [
    "# Display the results DataFrame\n",
    "print(\"\\nResults Summary:\")\n",
    "results_df"
   ]
  },
  {
   "cell_type": "code",
   "execution_count": 107,
   "metadata": {},
   "outputs": [
    {
     "data": {
      "image/png": "[encoded data removed]",
      "text/plain": [
       "<Figure size 800x600 with 2 Axes>"
      ]
     },
     "metadata": {},
     "output_type": "display_data"
    }
   ],
   "source": [
    "# Calculate confusion matrix\n",
    "matrix = confusion_matrix(y_test, y_pred)\n",
    "\n",
    "# Plot confusion matrix\n",
    "plt.figure(figsize=(8, 6))\n",
    "sns.heatmap(matrix, annot=True, fmt='d', cmap='Blues', xticklabels=['Negative', 'Positive'], yticklabels=['Negative', 'Positive'])\n",
    "plt.title('Confusion Matrix')\n",
    "plt.xlabel('Predicted')\n",
    "plt.ylabel('Actual')\n",
    "plt.show()"
   ]
  },
  {
   "cell_type": "code",
   "execution_count": 108,
   "metadata": {},
   "outputs": [
    {
     "data": {
      "image/png": "[encoded data removed]",
      "text/plain": [
       "<Figure size 1200x800 with 1 Axes>"
      ]
     },
     "metadata": {},
     "output_type": "display_data"
    }
   ],
   "source": [
    "# Set the style for seaborn\n",
    "sns.set(style=\"darkgrid\")\n",
    "\n",
    "# Plot the accuracy of each model using seaborn\n",
    "plt.figure(figsize=(12, 8))\n",
    "sns.barplot(x='Model', y='Accuracy', data=results_df, color='green')\n",
    "plt.xlabel('Model')\n",
    "plt.ylabel('Accuracy')\n",
    "plt.title('Accuracy of Each Model')\n",
    "plt.ylim(0, 1)  # Set y-axis limit between 0 and 1 for accuracy\n",
    "plt.xticks(rotation=45, ha='right')  # Rotate x-axis labels for better visibility\n",
    "plt.tight_layout()\n",
    "\n",
    "# Display the plot\n",
    "plt.show()"
   ]
  },
  {
   "cell_type": "code",
   "execution_count": 113,
   "metadata": {},
   "outputs": [],
   "source": [
    "#k-Fold Cross Validation\n",
    "def kfold_cross_validation(model, X, y, num_folds=5):\n",
    "    \"\"\"\n",
    "    Perform k-fold cross-validation for a given model.\n",
    "\n",
    "    Parameters:\n",
    "    - model: Machine learning model.\n",
    "    - X: Features.\n",
    "    - y: Target variable.\n",
    "    - num_folds: Number of folds for cross-validation.\n",
    "\n",
    "    Returns:\n",
    "    - results_df: DataFrame containing cross-validation results.\n",
    "    \"\"\"\n",
    "    # Initialize StratifiedKFold\n",
    "    kf = StratifiedKFold(n_splits=num_folds, shuffle=True, random_state=42)\n",
    "\n",
    "    # Initialize DataFrame to store results\n",
    "    results_df = pd.DataFrame(columns=['Fold', 'Accuracy', 'Precision', 'Recall', 'F1 Score', 'ROC AUC'])\n",
    "\n",
    "    # Iterate over folds\n",
    "    for fold, (train_idx, test_idx) in enumerate(kf.split(X, y)):\n",
    "        X_train, X_test = X.iloc[train_idx], X.iloc[test_idx]\n",
    "        y_train, y_test = y.iloc[train_idx], y.iloc[test_idx]\n",
    "\n",
    "        # Fit the model on the training data\n",
    "        model.fit(X_train, y_train)\n",
    "\n",
    "        # Make predictions on the test data\n",
    "        y_pred = model.predict(X_test)\n",
    "\n",
    "        # Evaluate the model\n",
    "        accuracy = accuracy_score(y_test, y_pred)\n",
    "        precision = precision_score(y_test, y_pred)\n",
    "        recall = recall_score(y_test, y_pred)\n",
    "        f1 = f1_score(y_test, y_pred)\n",
    "        roc_auc = roc_auc_score(y_test, y_pred)\n",
    "\n",
    "        # Append results to the DataFrame\n",
    "        # Append results to the DataFrame using pd.concat\n",
    "        results_df = pd.concat([results_df, pd.DataFrame([{\n",
    "            'Fold': fold + 1,\n",
    "            'Accuracy': accuracy,\n",
    "            'Precision': precision,\n",
    "            'Recall': recall,\n",
    "            'F1 Score': f1,\n",
    "            'ROC AUC': roc_auc\n",
    "        }])], ignore_index=True)\n",
    "\n",
    "    return results_df\n"
   ]
  },
  {
   "cell_type": "code",
   "execution_count": 114,
   "metadata": {},
   "outputs": [
    {
     "name": "stdout",
     "output_type": "stream",
     "text": [
      "\n",
      "Evaluating Logistic Regression...\n"
     ]
    },
    {
     "name": "stderr",
     "output_type": "stream",
     "text": [
      "c:\\Python312\\Lib\\site-packages\\sklearn\\linear_model\\_logistic.py:469: ConvergenceWarning:\n",
      "\n",
      "lbfgs failed to converge (status=1):\n",
      "STOP: TOTAL NO. of ITERATIONS REACHED LIMIT.\n",
      "\n",
      "Increase the number of iterations (max_iter) or scale the data as shown in:\n",
      "    https://scikit-learn.org/stable/modules/preprocessing.html\n",
      "Please also refer to the documentation for alternative solver options:\n",
      "    https://scikit-learn.org/stable/modules/linear_model.html#logistic-regression\n",
      "\n",
      "C:\\Users\\debor\\AppData\\Local\\Temp\\ipykernel_16560\\3167714180.py:41: FutureWarning:\n",
      "\n",
      "The behavior of DataFrame concatenation with empty or all-NA entries is deprecated. In a future version, this will no longer exclude empty or all-NA columns when determining the result dtypes. To retain the old behavior, exclude the relevant entries before the concat operation.\n",
      "\n",
      "c:\\Python312\\Lib\\site-packages\\sklearn\\linear_model\\_logistic.py:469: ConvergenceWarning:\n",
      "\n",
      "lbfgs failed to converge (status=1):\n",
      "STOP: TOTAL NO. of ITERATIONS REACHED LIMIT.\n",
      "\n",
      "Increase the number of iterations (max_iter) or scale the data as shown in:\n",
      "    https://scikit-learn.org/stable/modules/preprocessing.html\n",
      "Please also refer to the documentation for alternative solver options:\n",
      "    https://scikit-learn.org/stable/modules/linear_model.html#logistic-regression\n",
      "\n",
      "c:\\Python312\\Lib\\site-packages\\sklearn\\linear_model\\_logistic.py:469: ConvergenceWarning:\n",
      "\n",
      "lbfgs failed to converge (status=1):\n",
      "STOP: TOTAL NO. of ITERATIONS REACHED LIMIT.\n",
      "\n",
      "Increase the number of iterations (max_iter) or scale the data as shown in:\n",
      "    https://scikit-learn.org/stable/modules/preprocessing.html\n",
      "Please also refer to the documentation for alternative solver options:\n",
      "    https://scikit-learn.org/stable/modules/linear_model.html#logistic-regression\n",
      "\n",
      "c:\\Python312\\Lib\\site-packages\\sklearn\\linear_model\\_logistic.py:469: ConvergenceWarning:\n",
      "\n",
      "lbfgs failed to converge (status=1):\n",
      "STOP: TOTAL NO. of ITERATIONS REACHED LIMIT.\n",
      "\n",
      "Increase the number of iterations (max_iter) or scale the data as shown in:\n",
      "    https://scikit-learn.org/stable/modules/preprocessing.html\n",
      "Please also refer to the documentation for alternative solver options:\n",
      "    https://scikit-learn.org/stable/modules/linear_model.html#logistic-regression\n",
      "\n",
      "c:\\Python312\\Lib\\site-packages\\sklearn\\linear_model\\_logistic.py:469: ConvergenceWarning:\n",
      "\n",
      "lbfgs failed to converge (status=1):\n",
      "STOP: TOTAL NO. of ITERATIONS REACHED LIMIT.\n",
      "\n",
      "Increase the number of iterations (max_iter) or scale the data as shown in:\n",
      "    https://scikit-learn.org/stable/modules/preprocessing.html\n",
      "Please also refer to the documentation for alternative solver options:\n",
      "    https://scikit-learn.org/stable/modules/linear_model.html#logistic-regression\n",
      "\n",
      "C:\\Users\\debor\\AppData\\Local\\Temp\\ipykernel_16560\\566181815.py:25: FutureWarning:\n",
      "\n",
      "The behavior of DataFrame concatenation with empty or all-NA entries is deprecated. In a future version, this will no longer exclude empty or all-NA columns when determining the result dtypes. To retain the old behavior, exclude the relevant entries before the concat operation.\n",
      "\n"
     ]
    },
    {
     "name": "stdout",
     "output_type": "stream",
     "text": [
      "\n",
      "Evaluating Random Forest...\n"
     ]
    },
    {
     "name": "stderr",
     "output_type": "stream",
     "text": [
      "C:\\Users\\debor\\AppData\\Local\\Temp\\ipykernel_16560\\3167714180.py:41: FutureWarning:\n",
      "\n",
      "The behavior of DataFrame concatenation with empty or all-NA entries is deprecated. In a future version, this will no longer exclude empty or all-NA columns when determining the result dtypes. To retain the old behavior, exclude the relevant entries before the concat operation.\n",
      "\n"
     ]
    },
    {
     "name": "stdout",
     "output_type": "stream",
     "text": [
      "\n",
      "Evaluating XGBoost...\n"
     ]
    },
    {
     "name": "stderr",
     "output_type": "stream",
     "text": [
      "C:\\Users\\debor\\AppData\\Local\\Temp\\ipykernel_16560\\3167714180.py:41: FutureWarning:\n",
      "\n",
      "The behavior of DataFrame concatenation with empty or all-NA entries is deprecated. In a future version, this will no longer exclude empty or all-NA columns when determining the result dtypes. To retain the old behavior, exclude the relevant entries before the concat operation.\n",
      "\n"
     ]
    },
    {
     "name": "stdout",
     "output_type": "stream",
     "text": [
      "\n",
      "Evaluating K Nearest Neighbors...\n"
     ]
    },
    {
     "name": "stderr",
     "output_type": "stream",
     "text": [
      "C:\\Users\\debor\\AppData\\Local\\Temp\\ipykernel_16560\\3167714180.py:41: FutureWarning:\n",
      "\n",
      "The behavior of DataFrame concatenation with empty or all-NA entries is deprecated. In a future version, this will no longer exclude empty or all-NA columns when determining the result dtypes. To retain the old behavior, exclude the relevant entries before the concat operation.\n",
      "\n"
     ]
    },
    {
     "name": "stdout",
     "output_type": "stream",
     "text": [
      "\n",
      "Evaluating Support Vector Machines...\n"
     ]
    },
    {
     "name": "stderr",
     "output_type": "stream",
     "text": [
      "C:\\Users\\debor\\AppData\\Local\\Temp\\ipykernel_16560\\3167714180.py:41: FutureWarning:\n",
      "\n",
      "The behavior of DataFrame concatenation with empty or all-NA entries is deprecated. In a future version, this will no longer exclude empty or all-NA columns when determining the result dtypes. To retain the old behavior, exclude the relevant entries before the concat operation.\n",
      "\n",
      "C:\\Users\\debor\\AppData\\Local\\Temp\\ipykernel_16560\\3167714180.py:41: FutureWarning:\n",
      "\n",
      "The behavior of DataFrame concatenation with empty or all-NA entries is deprecated. In a future version, this will no longer exclude empty or all-NA columns when determining the result dtypes. To retain the old behavior, exclude the relevant entries before the concat operation.\n",
      "\n"
     ]
    },
    {
     "name": "stdout",
     "output_type": "stream",
     "text": [
      "\n",
      "Evaluating Decision Tree...\n",
      "\n",
      "Evaluating Gradient Boosting...\n"
     ]
    },
    {
     "name": "stderr",
     "output_type": "stream",
     "text": [
      "C:\\Users\\debor\\AppData\\Local\\Temp\\ipykernel_16560\\3167714180.py:41: FutureWarning:\n",
      "\n",
      "The behavior of DataFrame concatenation with empty or all-NA entries is deprecated. In a future version, this will no longer exclude empty or all-NA columns when determining the result dtypes. To retain the old behavior, exclude the relevant entries before the concat operation.\n",
      "\n"
     ]
    },
    {
     "name": "stdout",
     "output_type": "stream",
     "text": [
      "\n",
      "Cross-Validation Results for All Models:\n",
      "                      Model Fold  Accuracy  Precision    Recall  F1 Score  \\\n",
      "0       Logistic Regression    1  0.775000   0.727273  0.571429  0.640000   \n",
      "1       Logistic Regression    2  0.741667   0.648649  0.571429  0.607595   \n",
      "2       Logistic Regression    3  0.783333   0.700000  0.666667  0.682927   \n",
      "3       Logistic Regression    4  0.716667   0.652174  0.365854  0.468750   \n",
      "4       Logistic Regression    5  0.764706   0.696970  0.560976  0.621622   \n",
      "5             Random Forest    1  0.758333   0.666667  0.619048  0.641975   \n",
      "6             Random Forest    2  0.758333   0.658537  0.642857  0.650602   \n",
      "7             Random Forest    3  0.758333   0.651163  0.666667  0.658824   \n",
      "8             Random Forest    4  0.733333   0.666667  0.439024  0.529412   \n",
      "9             Random Forest    5  0.848739   0.896552  0.634146  0.742857   \n",
      "10                  XGBoost    1  0.675000   0.540541  0.476190  0.506329   \n",
      "11                  XGBoost    2  0.741667   0.641026  0.595238  0.617284   \n",
      "12                  XGBoost    3  0.758333   0.638298  0.714286  0.674157   \n",
      "13                  XGBoost    4  0.750000   0.648649  0.585366  0.615385   \n",
      "14                  XGBoost    5  0.823529   0.794118  0.658537  0.720000   \n",
      "15      K Nearest Neighbors    1  0.708333   0.594595  0.523810  0.556962   \n",
      "16      K Nearest Neighbors    2  0.616667   0.452381  0.452381  0.452381   \n",
      "17      K Nearest Neighbors    3  0.700000   0.571429  0.571429  0.571429   \n",
      "18      K Nearest Neighbors    4  0.708333   0.600000  0.439024  0.507042   \n",
      "19      K Nearest Neighbors    5  0.789916   0.766667  0.560976  0.647887   \n",
      "20  Support Vector Machines    1  0.741667   0.703704  0.452381  0.550725   \n",
      "21  Support Vector Machines    2  0.741667   0.703704  0.452381  0.550725   \n",
      "22  Support Vector Machines    3  0.733333   0.638889  0.547619  0.589744   \n",
      "23  Support Vector Machines    4  0.708333   0.636364  0.341463  0.444444   \n",
      "24  Support Vector Machines    5  0.815126   0.880000  0.536585  0.666667   \n",
      "25            Decision Tree    1  0.733333   0.619048  0.619048  0.619048   \n",
      "26            Decision Tree    2  0.608333   0.446809  0.500000  0.471910   \n",
      "27            Decision Tree    3  0.675000   0.531915  0.595238  0.561798   \n",
      "28            Decision Tree    4  0.725000   0.595238  0.609756  0.602410   \n",
      "29            Decision Tree    5  0.722689   0.595238  0.609756  0.602410   \n",
      "30        Gradient Boosting    1  0.733333   0.625000  0.595238  0.609756   \n",
      "31        Gradient Boosting    2  0.716667   0.605263  0.547619  0.575000   \n",
      "32        Gradient Boosting    3  0.741667   0.622222  0.666667  0.643678   \n",
      "33        Gradient Boosting    4  0.741667   0.656250  0.512195  0.575342   \n",
      "34        Gradient Boosting    5  0.806723   0.846154  0.536585  0.656716   \n",
      "\n",
      "     ROC AUC  \n",
      "0   0.728022  \n",
      "1   0.702381  \n",
      "2   0.756410  \n",
      "3   0.632294  \n",
      "4   0.716385  \n",
      "5   0.726190  \n",
      "6   0.731685  \n",
      "7   0.737179  \n",
      "8   0.662550  \n",
      "9   0.797842  \n",
      "10  0.629121  \n",
      "11  0.707875  \n",
      "12  0.748168  \n",
      "13  0.710404  \n",
      "14  0.784396  \n",
      "15  0.665751  \n",
      "16  0.578755  \n",
      "17  0.670330  \n",
      "18  0.643563  \n",
      "19  0.735616  \n",
      "20  0.674908  \n",
      "21  0.674908  \n",
      "22  0.690476  \n",
      "23  0.620099  \n",
      "24  0.749062  \n",
      "25  0.706960  \n",
      "26  0.583333  \n",
      "27  0.656593  \n",
      "28  0.697283  \n",
      "29  0.695904  \n",
      "30  0.701465  \n",
      "31  0.677656  \n",
      "32  0.724359  \n",
      "33  0.686477  \n",
      "34  0.742652  \n"
     ]
    }
   ],
   "source": [
    "# Initialize the models dictionary\n",
    "models = {\n",
    "    'Logistic Regression': LogisticRegression(),\n",
    "    'Random Forest': RandomForestClassifier(),\n",
    "    'XGBoost': XGBClassifier(),\n",
    "    'K Nearest Neighbors': KNeighborsClassifier(),\n",
    "    'Support Vector Machines': SVC(),\n",
    "    'Decision Tree': DecisionTreeClassifier(),\n",
    "    'Gradient Boosting': GradientBoostingClassifier()\n",
    "}\n",
    "\n",
    "# Initialize DataFrame to store results\n",
    "all_results_df = pd.DataFrame(columns=['Model', 'Fold', 'Accuracy', 'Precision', 'Recall', 'F1 Score', 'ROC AUC'])\n",
    "\n",
    "# Perform k-fold cross-validation for each model\n",
    "for name, model in models.items():\n",
    "    print(f\"\\nEvaluating {name}...\")\n",
    "    # Get cross-validation results for the model\n",
    "    cv_results = kfold_cross_validation(model, X, y, num_folds=5)\n",
    "    \n",
    "    # Add a 'Model' column to the results to keep track of which model was evaluated\n",
    "    cv_results['Model'] = name\n",
    "    \n",
    "    # Append the results to the overall DataFrame\n",
    "    all_results_df = pd.concat([all_results_df, cv_results], ignore_index=True)\n",
    "\n",
    "# Display the cross-validation results DataFrame\n",
    "print(\"\\nCross-Validation Results for All Models:\")\n",
    "print(all_results_df)\n"
   ]
  },
  {
   "cell_type": "code",
   "execution_count": 115,
   "metadata": {},
   "outputs": [
    {
     "name": "stderr",
     "output_type": "stream",
     "text": [
      "C:\\Users\\debor\\AppData\\Local\\Temp\\ipykernel_16560\\1819172776.py:6: FutureWarning:\n",
      "\n",
      "\n",
      "\n",
      "Passing `palette` without assigning `hue` is deprecated and will be removed in v0.14.0. Assign the `x` variable to `hue` and set `legend=False` for the same effect.\n",
      "\n",
      "\n"
     ]
    },
    {
     "data": {
      "image/png": "[encoded data removed]",
      "text/plain": [
       "<Figure size 1200x800 with 1 Axes>"
      ]
     },
     "metadata": {},
     "output_type": "display_data"
    }
   ],
   "source": [
    "# Filter the DataFrame to include only the accuracy results\n",
    "accuracy_results_all_models = all_results_df[['Model', 'Accuracy']]\n",
    "\n",
    "# Plot the bar chart\n",
    "plt.figure(figsize=(12, 8))\n",
    "sns.barplot(x='Model', y='Accuracy', data=accuracy_results_all_models, palette='viridis')\n",
    "plt.title('Model Comparison - 5-Fold Cross-Validation Accuracy')\n",
    "plt.xlabel('Model')\n",
    "plt.ylabel('Accuracy')\n",
    "plt.ylim(0, 1)  # Set the y-axis limit to the range of accuracy (0 to 1)\n",
    "plt.xticks(rotation=45, ha='right')  # Rotate x-axis labels for better readability\n",
    "plt.show()"
   ]
  },
  {
   "cell_type": "code",
   "execution_count": 118,
   "metadata": {},
   "outputs": [
    {
     "name": "stdout",
     "output_type": "stream",
     "text": [
      "\n",
      "Accuracy for the 5th Fold:\n"
     ]
    },
    {
     "data": {
      "text/html": [
       "<div>\n",
       "<style scoped>\n",
       "    .dataframe tbody tr th:only-of-type {\n",
       "        vertical-align: middle;\n",
       "    }\n",
       "\n",
       "    .dataframe tbody tr th {\n",
       "        vertical-align: top;\n",
       "    }\n",
       "\n",
       "    .dataframe thead th {\n",
       "        text-align: right;\n",
       "    }\n",
       "</style>\n",
       "<table border=\"1\" class=\"dataframe\">\n",
       "  <thead>\n",
       "    <tr style=\"text-align: right;\">\n",
       "      <th></th>\n",
       "      <th>Model</th>\n",
       "      <th>Accuracy</th>\n",
       "    </tr>\n",
       "  </thead>\n",
       "  <tbody>\n",
       "    <tr>\n",
       "      <th>4</th>\n",
       "      <td>Logistic Regression</td>\n",
       "      <td>0.764706</td>\n",
       "    </tr>\n",
       "    <tr>\n",
       "      <th>9</th>\n",
       "      <td>Random Forest</td>\n",
       "      <td>0.848739</td>\n",
       "    </tr>\n",
       "    <tr>\n",
       "      <th>14</th>\n",
       "      <td>XGBoost</td>\n",
       "      <td>0.823529</td>\n",
       "    </tr>\n",
       "    <tr>\n",
       "      <th>19</th>\n",
       "      <td>K Nearest Neighbors</td>\n",
       "      <td>0.789916</td>\n",
       "    </tr>\n",
       "    <tr>\n",
       "      <th>24</th>\n",
       "      <td>Support Vector Machines</td>\n",
       "      <td>0.815126</td>\n",
       "    </tr>\n",
       "    <tr>\n",
       "      <th>29</th>\n",
       "      <td>Decision Tree</td>\n",
       "      <td>0.722689</td>\n",
       "    </tr>\n",
       "    <tr>\n",
       "      <th>34</th>\n",
       "      <td>Gradient Boosting</td>\n",
       "      <td>0.806723</td>\n",
       "    </tr>\n",
       "  </tbody>\n",
       "</table>\n",
       "</div>"
      ],
      "text/plain": [
       "                      Model  Accuracy\n",
       "4       Logistic Regression  0.764706\n",
       "9             Random Forest  0.848739\n",
       "14                  XGBoost  0.823529\n",
       "19      K Nearest Neighbors  0.789916\n",
       "24  Support Vector Machines  0.815126\n",
       "29            Decision Tree  0.722689\n",
       "34        Gradient Boosting  0.806723"
      ]
     },
     "execution_count": 118,
     "metadata": {},
     "output_type": "execute_result"
    }
   ],
   "source": [
    "# Filter the DataFrame to include only the accuracy results for the 5th fold\n",
    "accuracy_results_5th_fold = all_results_df[all_results_df['Fold'] == 5][['Model', 'Accuracy']]\n",
    "\n",
    "# Print the accuracy for the 5th fold for each model\n",
    "print(\"\\nAccuracy for the 5th Fold:\")\n",
    "accuracy_results_5th_fold"
   ]
  },
  {
   "cell_type": "code",
   "execution_count": 119,
   "metadata": {},
   "outputs": [
    {
     "name": "stdout",
     "output_type": "stream",
     "text": [
      "\n",
      "Two Best Models based on k-fold Cross-Validation:\n",
      "\n",
      "Model: Random Forest, Mean Accuracy: 0.7714145658263305\n",
      "Model: Logistic Regression, Mean Accuracy: 0.7562745098039215\n"
     ]
    }
   ],
   "source": [
    "# Calculate the mean accuracy for each model\n",
    "mean_accuracy_by_model = all_results_df.groupby('Model')['Accuracy'].mean()\n",
    "\n",
    "# Select the top two models with the highest mean accuracy\n",
    "top_two_models = mean_accuracy_by_model.nlargest(2)\n",
    "\n",
    "# Print the two best models and their mean accuracies\n",
    "print(\"\\nTwo Best Models based on k-fold Cross-Validation:\\n\")\n",
    "for model, mean_accuracy in top_two_models.items():\n",
    "    print(f\"Model: {model}, Mean Accuracy: {mean_accuracy}\")"
   ]
  },
  {
   "cell_type": "markdown",
   "metadata": {},
   "source": [
    "# **Hyperparameters Tuning**"
   ]
  },
  {
   "cell_type": "code",
   "execution_count": 120,
   "metadata": {},
   "outputs": [
    {
     "name": "stderr",
     "output_type": "stream",
     "text": [
      "c:\\Python312\\Lib\\site-packages\\sklearn\\model_selection\\_validation.py:540: FitFailedWarning:\n",
      "\n",
      "\n",
      "960 fits failed out of a total of 2880.\n",
      "The score on these train-test partitions for these parameters will be set to nan.\n",
      "If these failures are not expected, you can try to debug them by setting error_score='raise'.\n",
      "\n",
      "Below are more details about the failures:\n",
      "--------------------------------------------------------------------------------\n",
      "791 fits failed with the following error:\n",
      "Traceback (most recent call last):\n",
      "  File \"c:\\Python312\\Lib\\site-packages\\sklearn\\model_selection\\_validation.py\", line 888, in _fit_and_score\n",
      "    estimator.fit(X_train, y_train, **fit_params)\n",
      "  File \"c:\\Python312\\Lib\\site-packages\\sklearn\\base.py\", line 1466, in wrapper\n",
      "    estimator._validate_params()\n",
      "  File \"c:\\Python312\\Lib\\site-packages\\sklearn\\base.py\", line 666, in _validate_params\n",
      "    validate_parameter_constraints(\n",
      "  File \"c:\\Python312\\Lib\\site-packages\\sklearn\\utils\\_param_validation.py\", line 95, in validate_parameter_constraints\n",
      "    raise InvalidParameterError(\n",
      "sklearn.utils._param_validation.InvalidParameterError: The 'max_features' parameter of RandomForestClassifier must be an int in the range [1, inf), a float in the range (0.0, 1.0], a str among {'sqrt', 'log2'} or None. Got 'auto' instead.\n",
      "\n",
      "--------------------------------------------------------------------------------\n",
      "169 fits failed with the following error:\n",
      "Traceback (most recent call last):\n",
      "  File \"c:\\Python312\\Lib\\site-packages\\sklearn\\model_selection\\_validation.py\", line 888, in _fit_and_score\n",
      "    estimator.fit(X_train, y_train, **fit_params)\n",
      "  File \"c:\\Python312\\Lib\\site-packages\\sklearn\\base.py\", line 1466, in wrapper\n",
      "    estimator._validate_params()\n",
      "  File \"c:\\Python312\\Lib\\site-packages\\sklearn\\base.py\", line 666, in _validate_params\n",
      "    validate_parameter_constraints(\n",
      "  File \"c:\\Python312\\Lib\\site-packages\\sklearn\\utils\\_param_validation.py\", line 95, in validate_parameter_constraints\n",
      "    raise InvalidParameterError(\n",
      "sklearn.utils._param_validation.InvalidParameterError: The 'max_features' parameter of RandomForestClassifier must be an int in the range [1, inf), a float in the range (0.0, 1.0], a str among {'log2', 'sqrt'} or None. Got 'auto' instead.\n",
      "\n",
      "\n",
      "c:\\Python312\\Lib\\site-packages\\sklearn\\model_selection\\_search.py:1103: UserWarning:\n",
      "\n",
      "One or more of the test scores are non-finite: [       nan        nan        nan        nan        nan        nan\n",
      "        nan        nan        nan        nan        nan        nan\n",
      "        nan        nan        nan        nan        nan        nan\n",
      "        nan        nan        nan        nan        nan        nan\n",
      "        nan        nan        nan        nan        nan        nan\n",
      "        nan        nan        nan        nan        nan        nan\n",
      "        nan        nan        nan        nan        nan        nan\n",
      "        nan        nan        nan        nan        nan        nan\n",
      " 0.77868421 0.77864035 0.78701754 0.77449561 0.77243421 0.78914474\n",
      " 0.77239035 0.76614035 0.78076754 0.77239035 0.77451754 0.77660088\n",
      " 0.77449561 0.77660088 0.77247807 0.76824561 0.77660088 0.78287281\n",
      " 0.77666667 0.77660088 0.77032895 0.77866228 0.76614035 0.76403509\n",
      " 0.77247807 0.76822368 0.77660088 0.76405702 0.78074561 0.77447368\n",
      " 0.76403509 0.77032895 0.75986842 0.76828947 0.75567982 0.77035088\n",
      " 0.75570175 0.77030702 0.76824561 0.77032895 0.76399123 0.75984649\n",
      " 0.76618421 0.76826754 0.75984649 0.76820175 0.76401316 0.77449561\n",
      " 0.78497807 0.78076754 0.77660088 0.77870614 0.77660088 0.76618421\n",
      " 0.77447368 0.76828947 0.77243421 0.77453947 0.7808114  0.76824561\n",
      " 0.77872807 0.77241228 0.78076754 0.76405702 0.76822368 0.77449561\n",
      " 0.76616228 0.78287281 0.78495614 0.77035088 0.77875    0.77453947\n",
      " 0.77236842 0.78495614 0.77035088 0.77449561 0.76195175 0.77032895\n",
      " 0.76195175 0.77030702 0.77868421 0.77236842 0.77243421 0.76824561\n",
      " 0.76609649 0.75574561 0.77030702 0.75776316 0.76199561 0.75780702\n",
      " 0.76195175 0.75359649 0.76401316 0.77236842 0.77030702 0.76824561\n",
      "        nan        nan        nan        nan        nan        nan\n",
      "        nan        nan        nan        nan        nan        nan\n",
      "        nan        nan        nan        nan        nan        nan\n",
      "        nan        nan        nan        nan        nan        nan\n",
      "        nan        nan        nan        nan        nan        nan\n",
      "        nan        nan        nan        nan        nan        nan\n",
      "        nan        nan        nan        nan        nan        nan\n",
      "        nan        nan        nan        nan        nan        nan\n",
      " 0.77447368 0.77236842 0.77037281 0.76407895 0.78078947 0.78289474\n",
      " 0.78078947 0.76826754 0.77870614 0.77447368 0.77660088 0.77449561\n",
      " 0.77032895 0.77664474 0.78703947 0.76824561 0.76618421 0.78495614\n",
      " 0.77032895 0.77866228 0.77037281 0.77035088 0.77664474 0.77028509\n",
      " 0.77449561 0.77868421 0.77243421 0.76405702 0.77032895 0.77239035\n",
      " 0.77032895 0.77247807 0.78078947 0.7683114  0.77030702 0.77241228\n",
      " 0.76616228 0.76614035 0.77241228 0.76611842 0.76405702 0.77239035\n",
      " 0.76401316 0.76197368 0.74942982 0.76820175 0.76824561 0.76195175\n",
      " 0.76820175 0.78078947 0.77875    0.77868421 0.78083333 0.77453947\n",
      " 0.77458333 0.78497807 0.77458333 0.77875    0.77453947 0.77032895\n",
      " 0.78083333 0.77035088 0.78078947 0.76826754 0.76826754 0.77241228\n",
      " 0.77241228 0.77449561 0.78076754 0.77662281 0.77864035 0.77032895\n",
      " 0.76614035 0.76820175 0.77662281 0.77662281 0.77870614 0.77449561\n",
      " 0.77030702 0.77035088 0.76820175 0.77032895 0.76407895 0.77662281\n",
      " 0.75986842 0.75989035 0.76826754 0.77662281 0.76822368 0.78078947\n",
      " 0.76410088 0.76192982 0.77030702 0.77030702 0.75572368 0.76611842\n",
      "        nan        nan        nan        nan        nan        nan\n",
      "        nan        nan        nan        nan        nan        nan\n",
      "        nan        nan        nan        nan        nan        nan\n",
      "        nan        nan        nan        nan        nan        nan\n",
      "        nan        nan        nan        nan        nan        nan\n",
      "        nan        nan        nan        nan        nan        nan\n",
      "        nan        nan        nan        nan        nan        nan\n",
      "        nan        nan        nan        nan        nan        nan\n",
      " 0.77453947 0.78285088 0.77662281 0.77864035 0.78491228 0.77660088\n",
      " 0.77868421 0.77247807 0.77032895 0.76616228 0.78287281 0.76616228\n",
      " 0.77241228 0.77035088 0.77660088 0.78076754 0.77236842 0.77660088\n",
      " 0.77664474 0.77241228 0.77032895 0.77236842 0.77451754 0.77870614\n",
      " 0.77035088 0.78287281 0.76822368 0.76824561 0.77664474 0.76405702\n",
      " 0.77453947 0.77241228 0.77241228 0.77032895 0.76616228 0.77032895\n",
      " 0.75567982 0.76405702 0.76197368 0.77035088 0.77028509 0.77028509\n",
      " 0.77245614 0.75778509 0.76611842 0.77035088 0.76826754 0.76616228\n",
      " 0.77243421 0.77870614 0.78699561 0.77655702 0.77035088 0.77660088\n",
      " 0.7725     0.76824561 0.77032895 0.78076754 0.77241228 0.76622807\n",
      " 0.77657895 0.75986842 0.78076754 0.77660088 0.76616228 0.78076754\n",
      " 0.76616228 0.76618421 0.78287281 0.76620614 0.77037281 0.76824561\n",
      " 0.77666667 0.77868421 0.77655702 0.77245614 0.77872807 0.76620614\n",
      " 0.77245614 0.76614035 0.76616228 0.77870614 0.77662281 0.77245614\n",
      " 0.76407895 0.77660088 0.76618421 0.76403509 0.77657895 0.76616228\n",
      " 0.77030702 0.76609649 0.76611842 0.76820175 0.76195175 0.75986842\n",
      "        nan        nan        nan        nan        nan        nan\n",
      "        nan        nan        nan        nan        nan        nan\n",
      "        nan        nan        nan        nan        nan        nan\n",
      "        nan        nan        nan        nan        nan        nan\n",
      "        nan        nan        nan        nan        nan        nan\n",
      "        nan        nan        nan        nan        nan        nan\n",
      "        nan        nan        nan        nan        nan        nan\n",
      "        nan        nan        nan        nan        nan        nan\n",
      " 0.78078947 0.77664474 0.78708333 0.77866228 0.78495614 0.78078947\n",
      " 0.76820175 0.77032895 0.77868421 0.77243421 0.76824561 0.76614035\n",
      " 0.78914474 0.77458333 0.77241228 0.77872807 0.78497807 0.77241228\n",
      " 0.77870614 0.76405702 0.77868421 0.76614035 0.77872807 0.77664474\n",
      " 0.76407895 0.76405702 0.78497807 0.77662281 0.77030702 0.78078947\n",
      " 0.77030702 0.76820175 0.77032895 0.77035088 0.76616228 0.78078947\n",
      " 0.76405702 0.75986842 0.76616228 0.75570175 0.76822368 0.76616228\n",
      " 0.77449561 0.76403509 0.75989035 0.77037281 0.76611842 0.76197368\n",
      " 0.78289474 0.77662281 0.77241228 0.77655702 0.78076754 0.77241228\n",
      " 0.77662281 0.77032895 0.77653509 0.77245614 0.77245614 0.77037281\n",
      " 0.77866228 0.78495614 0.77453947 0.77870614 0.7808114  0.77868421\n",
      " 0.77032895 0.78291667 0.77451754 0.77451754 0.77449561 0.77245614\n",
      " 0.77037281 0.77241228 0.77866228 0.76822368 0.76824561 0.76822368\n",
      " 0.77662281 0.77032895 0.77037281 0.76199561 0.77243421 0.77451754\n",
      " 0.76822368 0.76614035 0.75567982 0.76407895 0.77030702 0.76403509\n",
      " 0.77030702 0.75989035 0.76190789 0.77241228 0.76407895 0.75364035]\n",
      "\n"
     ]
    },
    {
     "name": "stdout",
     "output_type": "stream",
     "text": [
      "Best Hyperparameters for RandomForestClassifier:\n",
      "{'max_depth': None, 'max_features': 'sqrt', 'min_samples_leaf': 1, 'min_samples_split': 5, 'n_estimators': 200}\n",
      "Best Accuracy on Training Data: 0.7891447368421053\n",
      "\n",
      "Best Hyperparameters for LogisticRegression:\n",
      "{'C': 1, 'penalty': 'l2', 'solver': 'liblinear'}\n",
      "Best Accuracy on Training Data: 0.768267543859649\n",
      "\n",
      "Accuracy on Test Data (RandomForestClassifier): 0.7333333333333333\n",
      "Accuracy on Test Data (LogisticRegression): 0.775\n"
     ]
    }
   ],
   "source": [
    "# Create hyperparameter grids for each model\n",
    "param_grid_rf = {\n",
    "    'n_estimators': [100, 150, 200],\n",
    "    'max_depth': [None, 10, 20, 30],\n",
    "    'min_samples_split': [2, 5, 10, 15],\n",
    "    'min_samples_leaf': [1, 2, 4, 8],\n",
    "    'max_features': ['auto', 'sqrt', 'log2']\n",
    "}\n",
    "\n",
    "param_grid_lr = {\n",
    "    'C': [0.001, 0.01, 0.1, 1, 10, 100],\n",
    "    'penalty': ['l1', 'l2'],\n",
    "    'solver': ['liblinear', 'saga']\n",
    "}\n",
    "\n",
    "# Create the GridSearchCV objects for each model\n",
    "grid_search_rf = GridSearchCV(RandomForestClassifier(), param_grid_rf, cv=5, scoring='accuracy', n_jobs=-1)\n",
    "grid_search_lr = GridSearchCV(LogisticRegression(), param_grid_lr, cv=5, scoring='accuracy', n_jobs=-1)\n",
    "\n",
    "# Fit the grid searches to the data\n",
    "grid_search_rf.fit(X_train, y_train)\n",
    "grid_search_lr.fit(X_train, y_train)\n",
    "\n",
    "# Print the best hyperparameters and corresponding accuracy for each model\n",
    "print(\"Best Hyperparameters for RandomForestClassifier:\")\n",
    "print(grid_search_rf.best_params_)\n",
    "print(\"Best Accuracy on Training Data:\", grid_search_rf.best_score_)\n",
    "\n",
    "print(\"\\nBest Hyperparameters for LogisticRegression:\")\n",
    "print(grid_search_lr.best_params_)\n",
    "print(\"Best Accuracy on Training Data:\", grid_search_lr.best_score_)\n",
    "\n",
    "# Evaluate the best models on the test set\n",
    "best_model_rf = grid_search_rf.best_estimator_\n",
    "test_accuracy_rf = best_model_rf.score(X_test, y_test)\n",
    "print(\"\\nAccuracy on Test Data (RandomForestClassifier):\", test_accuracy_rf)\n",
    "\n",
    "best_model_lr = grid_search_lr.best_estimator_\n",
    "test_accuracy_lr = best_model_lr.score(X_test, y_test)\n",
    "print(\"Accuracy on Test Data (LogisticRegression):\", test_accuracy_lr)"
   ]
  },
  {
   "cell_type": "code",
   "execution_count": 121,
   "metadata": {},
   "outputs": [],
   "source": [
    "# Dropping the ID column from the test data\n",
    "test_data.drop(\"ID\", axis=1, inplace=True)"
   ]
  },
  {
   "cell_type": "code",
   "execution_count": 122,
   "metadata": {},
   "outputs": [
    {
     "data": {
      "text/plain": [
       "array([0, 0, 0, 0, 1, 1, 0, 1, 0, 0, 0, 0, 1, 1, 0, 1, 0, 0, 0, 0, 0, 0,\n",
       "       0, 1, 0, 0, 0, 0, 0, 0, 0, 0, 0, 0, 0, 0, 1, 0, 0, 0, 0, 0, 0, 0,\n",
       "       0, 0, 1, 0, 1, 0, 0, 0, 0, 0, 0, 0, 1, 0, 0, 1, 0, 1, 1, 1, 1, 0,\n",
       "       0, 0, 0, 0, 1, 1, 0, 0, 1, 0, 1, 0, 0, 0, 0, 0, 1, 0, 0, 0, 0, 0,\n",
       "       0, 0, 0, 0, 1, 0, 1, 0, 0, 1, 0, 0, 1, 0, 0, 1, 1, 0, 0, 0, 0, 1,\n",
       "       0, 1, 0, 1, 0, 0, 1, 1, 0, 0, 0, 0, 0, 0, 0, 0, 0, 0, 0, 0, 0, 0,\n",
       "       0, 1, 0, 0, 0, 0, 0, 0, 0, 1, 0, 0, 1, 1, 0, 1, 0, 1, 0, 1, 0, 0,\n",
       "       1, 1, 0, 0, 0, 0, 1, 0, 1, 0, 0, 0, 0, 0, 0])"
      ]
     },
     "execution_count": 122,
     "metadata": {},
     "output_type": "execute_result"
    }
   ],
   "source": [
    "# Use the best model to make predictions on the test dataset\n",
    "predicted_sepsis = best_model_lr.predict(test_data)\n",
    "\n",
    "# Display the predictions for the 'Sepsis' outcome\n",
    "predicted_sepsis"
   ]
  },
  {
   "cell_type": "markdown",
   "metadata": {},
   "source": [
    "## Saving the models"
   ]
  },
  {
   "cell_type": "code",
   "execution_count": 125,
   "metadata": {},
   "outputs": [
    {
     "data": {
      "text/plain": [
       "['best_model_rf.pkl']"
      ]
     },
     "execution_count": 125,
     "metadata": {},
     "output_type": "execute_result"
    }
   ],
   "source": [
    "# Save the trained model\n",
    "joblib.dump(best_model_rf, 'best_model_rf.pkl')"
   ]
  },
  {
   "cell_type": "code",
   "execution_count": 124,
   "metadata": {},
   "outputs": [
    {
     "data": {
      "text/plain": [
       "['scaler.joblib']"
      ]
     },
     "execution_count": 124,
     "metadata": {},
     "output_type": "execute_result"
    }
   ],
   "source": [
    "# Save the preprocessor\n",
    "joblib.dump(scaler, 'scaler.joblib')"
   ]
  },
  {
   "cell_type": "code",
   "execution_count": null,
   "metadata": {},
   "outputs": [],
   "source": []
  }
 ],
 "metadata": {
  "kernelspec": {
   "display_name": "Python 3",
   "language": "python",
   "name": "python3"
  },
  "language_info": {
   "codemirror_mode": {
    "name": "ipython",
    "version": 3
   },
   "file_extension": ".py",
   "mimetype": "text/x-python",
   "name": "python",
   "nbconvert_exporter": "python",
   "pygments_lexer": "ipython3",
   "version": "3.12.4"
  }
 },
 "nbformat": 4,
 "nbformat_minor": 2
}
